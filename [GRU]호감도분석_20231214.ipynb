{
  "nbformat": 4,
  "nbformat_minor": 0,
  "metadata": {
    "colab": {
      "provenance": [],
      "gpuType": "T4"
    },
    "kernelspec": {
      "name": "python3",
      "display_name": "Python 3"
    },
    "language_info": {
      "name": "python"
    },
    "accelerator": "GPU"
  },
  "cells": [
    {
      "cell_type": "code",
      "source": [
        "import re\n",
        "import numpy as np\n",
        "from sklearn.model_selection import train_test_split\n",
        "from tensorflow.keras.preprocessing.text import Tokenizer\n",
        "from tensorflow.keras.preprocessing.sequence import pad_sequences"
      ],
      "metadata": {
        "id": "ylm0jHjbvLAQ"
      },
      "execution_count": 15,
      "outputs": []
    },
    {
      "cell_type": "code",
      "execution_count": 20,
      "metadata": {
        "colab": {
          "base_uri": "https://localhost:8080/"
        },
        "id": "ptIoB7a3ux0S",
        "outputId": "95c50caa-a357-49c5-a449-dbc957dfaa01"
      },
      "outputs": [
        {
          "output_type": "stream",
          "name": "stdout",
          "text": [
            "Drive already mounted at /content/drive; to attempt to forcibly remount, call drive.mount(\"/content/drive\", force_remount=True).\n",
            "Loading text files for the label: 0\n",
            "Loading text files for the label: 25\n",
            "Loading text files for the label: 50\n",
            "Loading text files for the label: 75\n",
            "Loading text files for the label: 100\n"
          ]
        }
      ],
      "source": [
        "# 구글 드라이브 마운트\n",
        "drive.mount('/content/drive')\n",
        "def loadfile(path):\n",
        "    X = []\n",
        "    Y = []\n",
        "    for label in ('0', '25', '50', '75', '100'):\n",
        "        print(\"Loading text files for the label: \" + label)\n",
        "        label_path = os.path.join(path, label)\n",
        "        for filename in os.listdir(label_path):\n",
        "            if filename.endswith('.txt'):\n",
        "                with open(os.path.join(label_path, filename), 'r', encoding='utf-8') as file:\n",
        "                    text = file.read()\n",
        "                # 레이블을 숫자로 변환\n",
        "                if label == '0':\n",
        "                    Y.append(0)\n",
        "                elif label == '25':\n",
        "                    Y.append(1)\n",
        "                elif label == '50':\n",
        "                    Y.append(2)\n",
        "                elif label == '75':\n",
        "                    Y.append(3)\n",
        "                elif label == '100':\n",
        "                    Y.append(4)\n",
        "                # 텍스트 데이터를 X에 추가\n",
        "                X.append(text)\n",
        "    X = np.array(X)\n",
        "    Y = np.array(Y)\n",
        "    return X, Y\n",
        "# 경로를 구글 드라이브 경로로 변경\n",
        "directory_path = '/content/drive/MyDrive/likeability_Son/'\n",
        "# loadfile 함수 호출\n",
        "X, Y = loadfile(directory_path)"
      ]
    },
    {
      "cell_type": "code",
      "source": [
        "print(\"X shape:\", X.shape)\n",
        "print(\"Y shape:\", Y.shape)"
      ],
      "metadata": {
        "colab": {
          "base_uri": "https://localhost:8080/",
          "height": 201
        },
        "id": "ehHSClmfxQdr",
        "outputId": "8d350c29-fbb7-427a-bb18-6790913ec679"
      },
      "execution_count": 18,
      "outputs": [
        {
          "output_type": "error",
          "ename": "AttributeError",
          "evalue": "ignored",
          "traceback": [
            "\u001b[0;31m---------------------------------------------------------------------------\u001b[0m",
            "\u001b[0;31mAttributeError\u001b[0m                            Traceback (most recent call last)",
            "\u001b[0;32m<ipython-input-18-3f40c78b695c>\u001b[0m in \u001b[0;36m<cell line: 1>\u001b[0;34m()\u001b[0m\n\u001b[0;32m----> 1\u001b[0;31m \u001b[0mprint\u001b[0m\u001b[0;34m(\u001b[0m\u001b[0;34m\"X shape:\"\u001b[0m\u001b[0;34m,\u001b[0m \u001b[0mX\u001b[0m\u001b[0;34m.\u001b[0m\u001b[0mshape\u001b[0m\u001b[0;34m)\u001b[0m\u001b[0;34m\u001b[0m\u001b[0;34m\u001b[0m\u001b[0m\n\u001b[0m\u001b[1;32m      2\u001b[0m \u001b[0mprint\u001b[0m\u001b[0;34m(\u001b[0m\u001b[0;34m\"Y shape:\"\u001b[0m\u001b[0;34m,\u001b[0m \u001b[0mY\u001b[0m\u001b[0;34m.\u001b[0m\u001b[0mshape\u001b[0m\u001b[0;34m)\u001b[0m\u001b[0;34m\u001b[0m\u001b[0;34m\u001b[0m\u001b[0m\n",
            "\u001b[0;31mAttributeError\u001b[0m: 'list' object has no attribute 'shape'"
          ]
        }
      ]
    },
    {
      "cell_type": "code",
      "source": [
        "#4-1. 이모지 사용 함수\n",
        "def count_emojis(text):\n",
        "    emoji_pattern = re.compile('['\n",
        "        u'\\U0001F600-\\U0001F64F'  # emoticons\n",
        "        u'\\U0001F300-\\U0001F5FF'  # symbols & pictographs\n",
        "        ']', flags=re.UNICODE)\n",
        "    return len(emoji_pattern.findall(text))\n",
        "\n",
        "\n",
        "#4.2. 대화 양방향성 관련 함수\n",
        "def check_bidirectional_conversation(text):\n",
        "    a_contributions = len(re.findall(r'A:', text))\n",
        "    b_contributions = len(re.findall(r'B:', text))\n",
        "    return a_contributions > 0 and b_contributions > 0\n",
        "\n",
        "\n",
        "# 4-3. 답장 속도 기반 호감도 예측\n",
        "from datetime import datetime\n",
        "import re\n",
        "import numpy as np\n",
        "# 대화 데이터를 .txt 파일에서 불러오기\n",
        "conversation = []\n",
        "for label in ('0', '25', '50', '75', '100'):\n",
        "    label_path = os.path.join(directory_path, label)\n",
        "    for filename in os.listdir(label_path):\n",
        "        if filename.endswith('.txt'):\n",
        "            with open(os.path.join(label_path, filename), 'r', encoding='utf-8') as file:\n",
        "                conversation.extend(file.readlines())\n",
        "\n",
        "\n",
        "# 호감도 레이블 생성 함수\n",
        "def create_likeability_labels(conversation):\n",
        "    response_times = []\n",
        "    last_message_time = None\n",
        "    for line in conversation:\n",
        "        if line.startswith(\"A:\") or line.startswith(\"B:\"):\n",
        "            # 시간 정보 추출 및 변환\n",
        "            time_str = re.search(r'\\((\\d{2}):(\\d{2})\\)', line)\n",
        "            if time_str:\n",
        "                hours, minutes = map(int, time_str.groups())\n",
        "                current_time = hours * 60 + minutes  # Convert to minutes\n",
        "                # 답장 속도 계산\n",
        "                if last_message_time is not None:\n",
        "                    response_time = current_time - last_message_time\n",
        "                    response_times.append(response_time)\n",
        "                last_message_time = current_time\n",
        "    # 평균 응답 시간 계산 및 호감도 레이블 생성\n",
        "    avg_response_times = np.mean(response_times) if response_times else 0\n",
        "    likeability_labels = []\n",
        "    for response_time in response_times:\n",
        "        if response_time <= 10:\n",
        "            likeability = 100\n",
        "        elif response_time <= 30:\n",
        "            likeability = 75\n",
        "        elif response_time <= 60:\n",
        "            likeability = 50\n",
        "        elif response_time <= 180:\n",
        "            likeability = 25\n",
        "        else:\n",
        "            likeability = 0\n",
        "        likeability_labels.append(likeability)\n",
        "    return likeability_labels\n",
        "# 대화 데이터를 기반으로 호감도 레이블 생성\n",
        "likeability_labels = create_likeability_labels(conversation)"
      ],
      "metadata": {
        "id": "E3g-cC0EvIh7"
      },
      "execution_count": 21,
      "outputs": []
    },
    {
      "cell_type": "code",
      "source": [
        "import re\n",
        "import numpy as np\n",
        "from sklearn.model_selection import train_test_split\n",
        "from tensorflow.keras.preprocessing.text import Tokenizer\n",
        "from tensorflow.keras.preprocessing.sequence import pad_sequences\n",
        "\n",
        "# 데이터 전처리\n",
        "# 1) 특수문자 제거\n",
        "X_cleaned = [re.sub(r\"[^가-힣A-Za-z0-9]\", \" \", text) for text in X]\n",
        "\n",
        "# 2) & 3) 토크나이징\n",
        "tokenizer = Tokenizer(num_words=10000)\n",
        "tokenizer.fit_on_texts(X_cleaned)\n",
        "X_seq = tokenizer.texts_to_sequences(X_cleaned)\n",
        "\n",
        "# 4) & 5) 포스트패딩\n",
        "max_sequence_length = 100\n",
        "X_padded = pad_sequences(X_seq, maxlen=max_sequence_length)\n",
        "\n",
        "# 6) 데이터 분할\n",
        "X_train, X_test, y_train, y_test = train_test_split(X_padded, Y, test_size=0.2, random_state=42)\n"
      ],
      "metadata": {
        "id": "IA1st_7vxJSp"
      },
      "execution_count": 22,
      "outputs": []
    },
    {
      "cell_type": "code",
      "source": [
        "from tensorflow.keras.models import Sequential\n",
        "from tensorflow.keras.layers import Embedding, GRU, Dense\n",
        "\n",
        "# 모델 정의\n",
        "model = Sequential()\n",
        "model.add(Embedding(input_dim=10000, output_dim=128, input_length=max_sequence_length))\n",
        "model.add(GRU(128, return_sequences=True))\n",
        "model.add(GRU(128))\n",
        "model.add(Dense(5, activation='softmax'))  # 클래스가 5개\n",
        "\n",
        "# 모델 구조 출력\n",
        "model.summary()"
      ],
      "metadata": {
        "colab": {
          "base_uri": "https://localhost:8080/"
        },
        "id": "ZnrUOSngxJ0C",
        "outputId": "e053d7a4-4cbe-4ae4-9861-98b0c1a89883"
      },
      "execution_count": 23,
      "outputs": [
        {
          "output_type": "stream",
          "name": "stdout",
          "text": [
            "Model: \"sequential_1\"\n",
            "_________________________________________________________________\n",
            " Layer (type)                Output Shape              Param #   \n",
            "=================================================================\n",
            " embedding_1 (Embedding)     (None, 100, 128)          1280000   \n",
            "                                                                 \n",
            " gru_1 (GRU)                 (None, 100, 128)          99072     \n",
            "                                                                 \n",
            " gru_2 (GRU)                 (None, 128)               99072     \n",
            "                                                                 \n",
            " dense_1 (Dense)             (None, 5)                 645       \n",
            "                                                                 \n",
            "=================================================================\n",
            "Total params: 1478789 (5.64 MB)\n",
            "Trainable params: 1478789 (5.64 MB)\n",
            "Non-trainable params: 0 (0.00 Byte)\n",
            "_________________________________________________________________\n"
          ]
        }
      ]
    },
    {
      "cell_type": "code",
      "source": [
        "model.compile(optimizer='adam', loss='sparse_categorical_crossentropy', metrics=['accuracy'])\n",
        "\n",
        "# 학습\n",
        "history = model.fit(X_train, y_train, epochs=20, validation_split=0.2)"
      ],
      "metadata": {
        "colab": {
          "base_uri": "https://localhost:8080/"
        },
        "id": "KJ21F_Asx1-j",
        "outputId": "91ea94fc-4743-492a-bf9e-dfd021b55d3f"
      },
      "execution_count": 25,
      "outputs": [
        {
          "output_type": "stream",
          "name": "stdout",
          "text": [
            "Epoch 1/20\n",
            "10/10 [==============================] - 10s 194ms/step - loss: 1.5830 - accuracy: 0.3125 - val_loss: 1.5489 - val_accuracy: 0.4125\n",
            "Epoch 2/20\n",
            "10/10 [==============================] - 1s 117ms/step - loss: 1.3384 - accuracy: 0.6031 - val_loss: 1.2308 - val_accuracy: 0.4750\n",
            "Epoch 3/20\n",
            "10/10 [==============================] - 1s 123ms/step - loss: 0.7080 - accuracy: 0.6906 - val_loss: 1.0039 - val_accuracy: 0.5625\n",
            "Epoch 4/20\n",
            "10/10 [==============================] - 1s 78ms/step - loss: 0.3008 - accuracy: 0.9344 - val_loss: 1.0040 - val_accuracy: 0.6500\n",
            "Epoch 5/20\n",
            "10/10 [==============================] - 1s 84ms/step - loss: 0.1135 - accuracy: 0.9719 - val_loss: 1.1901 - val_accuracy: 0.6375\n",
            "Epoch 6/20\n",
            "10/10 [==============================] - 1s 83ms/step - loss: 0.0989 - accuracy: 0.9688 - val_loss: 1.0629 - val_accuracy: 0.7125\n",
            "Epoch 7/20\n",
            "10/10 [==============================] - 1s 73ms/step - loss: 0.0510 - accuracy: 0.9812 - val_loss: 1.2130 - val_accuracy: 0.7375\n",
            "Epoch 8/20\n",
            "10/10 [==============================] - 1s 106ms/step - loss: 0.0172 - accuracy: 0.9969 - val_loss: 1.2886 - val_accuracy: 0.6875\n",
            "Epoch 9/20\n",
            "10/10 [==============================] - 1s 98ms/step - loss: 0.0110 - accuracy: 0.9969 - val_loss: 1.1572 - val_accuracy: 0.7125\n",
            "Epoch 10/20\n",
            "10/10 [==============================] - 1s 103ms/step - loss: 0.0071 - accuracy: 0.9969 - val_loss: 1.1243 - val_accuracy: 0.7125\n",
            "Epoch 11/20\n",
            "10/10 [==============================] - 1s 78ms/step - loss: 0.0043 - accuracy: 1.0000 - val_loss: 1.1017 - val_accuracy: 0.7750\n",
            "Epoch 12/20\n",
            "10/10 [==============================] - 1s 95ms/step - loss: 0.0025 - accuracy: 1.0000 - val_loss: 1.2135 - val_accuracy: 0.7250\n",
            "Epoch 13/20\n",
            "10/10 [==============================] - 1s 129ms/step - loss: 0.0017 - accuracy: 1.0000 - val_loss: 1.2373 - val_accuracy: 0.7250\n",
            "Epoch 14/20\n",
            "10/10 [==============================] - 1s 91ms/step - loss: 0.0011 - accuracy: 1.0000 - val_loss: 1.2360 - val_accuracy: 0.7125\n",
            "Epoch 15/20\n",
            "10/10 [==============================] - 1s 85ms/step - loss: 8.5774e-04 - accuracy: 1.0000 - val_loss: 1.2334 - val_accuracy: 0.7125\n",
            "Epoch 16/20\n",
            "10/10 [==============================] - 0s 43ms/step - loss: 7.3680e-04 - accuracy: 1.0000 - val_loss: 1.2345 - val_accuracy: 0.7125\n",
            "Epoch 17/20\n",
            "10/10 [==============================] - 1s 84ms/step - loss: 6.4761e-04 - accuracy: 1.0000 - val_loss: 1.2384 - val_accuracy: 0.7125\n",
            "Epoch 18/20\n",
            "10/10 [==============================] - 0s 50ms/step - loss: 5.9022e-04 - accuracy: 1.0000 - val_loss: 1.2421 - val_accuracy: 0.7125\n",
            "Epoch 19/20\n",
            "10/10 [==============================] - 1s 75ms/step - loss: 5.3914e-04 - accuracy: 1.0000 - val_loss: 1.2488 - val_accuracy: 0.7125\n",
            "Epoch 20/20\n",
            "10/10 [==============================] - 0s 39ms/step - loss: 4.9664e-04 - accuracy: 1.0000 - val_loss: 1.2557 - val_accuracy: 0.7125\n"
          ]
        }
      ]
    },
    {
      "cell_type": "code",
      "source": [
        "test_loss, test_accuracy = model.evaluate(X_test, y_test)\n",
        "print(f\"Test Loss: {test_loss}, Test Accuracy: {test_accuracy}\")"
      ],
      "metadata": {
        "colab": {
          "base_uri": "https://localhost:8080/"
        },
        "id": "Ig0HEC-7x5dB",
        "outputId": "41b4ae11-f856-45a8-e4a6-52b4916131a7"
      },
      "execution_count": 26,
      "outputs": [
        {
          "output_type": "stream",
          "name": "stdout",
          "text": [
            "4/4 [==============================] - 0s 9ms/step - loss: 0.7629 - accuracy: 0.8200\n",
            "Test Loss: 0.7629058957099915, Test Accuracy: 0.8199999928474426\n"
          ]
        }
      ]
    },
    {
      "cell_type": "code",
      "source": [],
      "metadata": {
        "id": "9uTxwGJQx9Uv"
      },
      "execution_count": null,
      "outputs": []
    }
  ]
}