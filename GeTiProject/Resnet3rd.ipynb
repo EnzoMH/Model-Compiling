{
  "cells": [
    {
      "cell_type": "code",
      "execution_count": 2,
      "metadata": {
        "id": "BQ7nnmjXjIeB"
      },
      "outputs": [],
      "source": [
        "import cv2\n",
        "import os\n",
        "from tensorflow.keras.applications import ResNet50\n",
        "from tensorflow.keras import layers, Sequential\n",
        "from tensorflow.keras.preprocessing.image import ImageDataGenerator\n",
        "from google.colab import drive\n",
        "from tensorflow.keras.models import Model"
      ]
    },
    {
      "cell_type": "code",
      "execution_count": 3,
      "metadata": {
        "colab": {
          "base_uri": "https://localhost:8080/"
        },
        "id": "L6T_tlp-jVx0",
        "outputId": "7232b244-0dc9-42b6-dbf5-a75cd01db02f"
      },
      "outputs": [
        {
          "output_type": "stream",
          "name": "stdout",
          "text": [
            "Mounted at /content/drive\n"
          ]
        }
      ],
      "source": [
        "# Google Drive 마운트\n",
        "drive.mount('/content/drive')\n",
        "\n",
        "# 데이터 경로 설정\n",
        "data_path = '/content/drive/MyDrive/kfood'"
      ]
    },
    {
      "cell_type": "code",
      "execution_count": 4,
      "metadata": {
        "colab": {
          "base_uri": "https://localhost:8080/"
        },
        "id": "DyqP88yKvEy1",
        "outputId": "e9a9934b-4a6f-4660-8aa2-96031abf2bb5"
      },
      "outputs": [
        {
          "output_type": "stream",
          "name": "stdout",
          "text": [
            "Downloading data from https://storage.googleapis.com/tensorflow/keras-applications/resnet/resnet50_weights_tf_dim_ordering_tf_kernels_notop.h5\n",
            "94765736/94765736 [==============================] - 1s 0us/step\n"
          ]
        }
      ],
      "source": [
        "# 사전 훈련된 ResNet50 모델 로드\n",
        "base_model = ResNet50(weights='imagenet', include_top=False, input_shape=(224, 224, 3))\n",
        "\n",
        "# 모델 구성\n",
        "model = Sequential()\n",
        "model.add(base_model)  # ResNet50을 기본 모델로 추가\n",
        "model.add(layers.GlobalAveragePooling2D())  # 평균 풀링 층\n",
        "model.add(layers.Dense(64, activation='relu'))  # 커스텀 분류 층\n",
        "model.add(layers.Dropout(0.5))  # 드롭아웃 층\n",
        "model.add(layers.Dense(10, activation='softmax'))  # 최종 출력 층\n",
        "\n",
        "# 기본 모델의 층을 학습 가능하게 설정\n",
        "base_model.trainable = True"
      ]
    },
    {
      "cell_type": "code",
      "execution_count": 5,
      "metadata": {
        "id": "i4K3nLMvkdXR"
      },
      "outputs": [],
      "source": [
        "# 모델 컴파일\n",
        "model.compile(optimizer='adam', loss='categorical_crossentropy', metrics=['accuracy'])"
      ]
    },
    {
      "cell_type": "code",
      "execution_count": 6,
      "metadata": {
        "colab": {
          "base_uri": "https://localhost:8080/"
        },
        "id": "lvAS6Mn0jgkD",
        "outputId": "3921e14e-d6e7-4a00-ea06-54880cc86f5e"
      },
      "outputs": [
        {
          "output_type": "stream",
          "name": "stdout",
          "text": [
            "Model: \"sequential\"\n",
            "_________________________________________________________________\n",
            " Layer (type)                Output Shape              Param #   \n",
            "=================================================================\n",
            " resnet50 (Functional)       (None, 7, 7, 2048)        23587712  \n",
            "                                                                 \n",
            " global_average_pooling2d (  (None, 2048)              0         \n",
            " GlobalAveragePooling2D)                                         \n",
            "                                                                 \n",
            " dense (Dense)               (None, 64)                131136    \n",
            "                                                                 \n",
            " dropout (Dropout)           (None, 64)                0         \n",
            "                                                                 \n",
            " dense_1 (Dense)             (None, 10)                650       \n",
            "                                                                 \n",
            "=================================================================\n",
            "Total params: 23719498 (90.48 MB)\n",
            "Trainable params: 23666378 (90.28 MB)\n",
            "Non-trainable params: 53120 (207.50 KB)\n",
            "_________________________________________________________________\n"
          ]
        }
      ],
      "source": [
        "# Model summary\n",
        "model.summary()"
      ]
    },
    {
      "cell_type": "code",
      "execution_count": 7,
      "metadata": {
        "id": "hUmFSRXBkOki"
      },
      "outputs": [],
      "source": [
        "# 데이터 제너레이터 생성\n",
        "train_datagen = ImageDataGenerator(rescale=1./255)\n",
        "val_datagen = ImageDataGenerator(rescale=1./255)"
      ]
    },
    {
      "cell_type": "code",
      "execution_count": null,
      "metadata": {
        "colab": {
          "base_uri": "https://localhost:8080/"
        },
        "id": "dDj-_-AUkRI0",
        "outputId": "046f8b55-4992-4461-e4f6-76e6703090be"
      },
      "outputs": [
        {
          "output_type": "stream",
          "name": "stdout",
          "text": [
            "Found 7882 images belonging to 10 classes.\n",
            "Found 1991 images belonging to 10 classes.\n",
            "Epoch 1/30\n",
            "247/247 [==============================] - 4178s 17s/step - loss: 1.4490 - accuracy: 0.5403 - val_loss: 12.4359 - val_accuracy: 0.0979\n",
            "Epoch 2/30\n",
            "247/247 [==============================] - 4001s 16s/step - loss: 0.9043 - accuracy: 0.7334 - val_loss: 3.1196 - val_accuracy: 0.0949\n",
            "Epoch 3/30\n",
            "247/247 [==============================] - 3981s 16s/step - loss: 0.6969 - accuracy: 0.7955 - val_loss: 3.5534 - val_accuracy: 0.1793\n",
            "Epoch 4/30\n",
            "247/247 [==============================] - 3991s 16s/step - loss: 0.5861 - accuracy: 0.8281 - val_loss: 1.9850 - val_accuracy: 0.5550\n",
            "Epoch 5/30\n",
            "247/247 [==============================] - 3943s 16s/step - loss: 0.4940 - accuracy: 0.8532 - val_loss: 1.2696 - val_accuracy: 0.7017\n",
            "Epoch 6/30\n",
            " 43/247 [====>.........................] - ETA: 51:42 - loss: 0.3824 - accuracy: 0.8844"
          ]
        }
      ],
      "source": [
        "# 훈련 데이터셋 제너레이터 설정\n",
        "train_generator = train_datagen.flow_from_directory(\n",
        "    os.path.join(data_path, 'train'),\n",
        "    target_size=(224, 224),\n",
        "    batch_size=32,\n",
        "    class_mode='categorical',\n",
        "    shuffle=True)  # 훈련 데이터셋 셔플\n",
        "\n",
        "# 검증 데이터셋 제너레이터 설정\n",
        "validation_generator = val_datagen.flow_from_directory(\n",
        "    os.path.join(data_path, 'val'),\n",
        "    target_size=(224, 224),\n",
        "    batch_size=32,\n",
        "    class_mode='categorical',\n",
        "    shuffle=False)  # 검증 데이터셋 셔플하지 않음\n",
        "\n",
        "# 모델 학습\n",
        "history = model.fit(\n",
        "    train_generator,\n",
        "    epochs=30,\n",
        "    validation_data=validation_generator\n",
        ")"
      ]
    },
    {
      "cell_type": "code",
      "execution_count": null,
      "metadata": {
        "id": "nIP63vk0wJHC"
      },
      "outputs": [],
      "source": [
        "# Epoch별 train/val accuracy와 Loss변화\n",
        "\n",
        "import matplotlib.pyplot as plt\n",
        "\n",
        "def plot_history(history):\n",
        "    plt.figure(figsize=(12, 4))\n",
        "\n",
        "    plt.subplot(1, 2, 1)\n",
        "    plt.plot(history.history['accuracy'], label='Training Accuracy')\n",
        "    plt.plot(history.history['val_accuracy'], label='Validation Accuracy')\n",
        "    plt.title('Accuracy over epochs')\n",
        "    plt.xlabel('Epoch')\n",
        "    plt.ylabel('Accuracy')\n",
        "    plt.legend()\n",
        "\n",
        "    plt.subplot(1, 2, 2)\n",
        "    plt.plot(history.history['loss'], label='Training Loss')\n",
        "    plt.plot(history.history['val_loss'], label='Validation Loss')\n",
        "    plt.title('Loss over epochs')\n",
        "    plt.xlabel('Epoch')\n",
        "    plt.ylabel('Loss')\n",
        "    plt.legend()\n",
        "\n",
        "    plt.show()\n",
        "\n",
        "plot_history(history)"
      ]
    },
    {
      "cell_type": "markdown",
      "metadata": {
        "id": "gDRPTEIGzIH1"
      },
      "source": [
        "## 평가 및 시각화\n"
      ]
    },
    {
      "cell_type": "code",
      "execution_count": null,
      "metadata": {
        "id": "ms1VhoKXwXxy"
      },
      "outputs": [],
      "source": [
        "import numpy as np\n",
        "from sklearn.metrics import confusion_matrix\n",
        "import seaborn as sns\n",
        "import matplotlib.pyplot as plt\n",
        "\n",
        "# 모든 검증 데이터에 대한 예측 수행\n",
        "y_pred = model.predict(validation_generator)\n",
        "y_pred_classes = np.argmax(y_pred, axis=1)\n",
        "\n",
        "# 실제 레이블 가져오기\n",
        "y_true = validation_generator.classes\n",
        "\n",
        "# 클래스 이름 가져오기\n",
        "class_names = list(validation_generator.class_indices.keys())\n",
        "\n",
        "# 혼동 행렬 그리기\n",
        "plot_confusion_matrix(y_true, y_pred_classes, classes=class_names)"
      ]
    },
    {
      "cell_type": "code",
      "execution_count": null,
      "metadata": {
        "id": "_5y919oOwZkg"
      },
      "outputs": [],
      "source": [
        "from sklearn.metrics import classification_report\n",
        "\n",
        "# Accuracy, Precision, Recall, F1-Score 계산\n",
        "print(classification_report(y_true, y_pred_classes, target_names=class_names))"
      ]
    },
    {
      "cell_type": "code",
      "execution_count": null,
      "metadata": {
        "id": "WuobH3fDweV4"
      },
      "outputs": [],
      "source": [
        "# 모델 저장\n",
        "model.save(\"resnet_1st.h5\")\n",
        "\n",
        "# 파일 크기 확인\n",
        "import os\n",
        "model_size = os.path.getsize(\"resnet_1st.h5\")\n",
        "print(f\"Model Size: {model_size / 1024 / 1024:.2f} MB\")"
      ]
    },
    {
      "cell_type": "code",
      "execution_count": null,
      "metadata": {
        "id": "85Yc4e1eh2pp"
      },
      "outputs": [],
      "source": [
        "import time\n",
        "\n",
        "# 샘플 데이터 준비 (예: 검증 데이터셋의 첫 번째 배치)\n",
        "X_sample, _ = next(iter(validation_generator))\n",
        "\n",
        "# 추론 시간 측정\n",
        "start_time = time.time()\n",
        "predictions = model.predict(X_sample)\n",
        "end_time = time.time()\n",
        "\n",
        "print(f\"Prediction Time: {end_time - start_time:.4f} seconds\")"
      ]
    },
    {
      "cell_type": "code",
      "execution_count": null,
      "metadata": {
        "id": "cmOa2GSnxqg8"
      },
      "outputs": [],
      "source": [
        "import random\n",
        "\n",
        "# 무작위로 100개의 인덱스 선택\n",
        "indices = random.sample(range(len(validation_generator.filenames)), 100)\n",
        "\n",
        "# 시각화\n",
        "for i in indices:\n",
        "    img_path = os.path.join(validation_generator.directory, validation_generator.filenames[i])\n",
        "    img = cv2.imread(img_path)\n",
        "    img = cv2.cvtColor(img, cv2.COLOR_BGR2RGB)\n",
        "    true_label = class_names[y_true[i]]\n",
        "    pred_label = class_names[y_pred_classes[i]]\n",
        "\n",
        "    plt.figure(figsize=(2, 2))\n",
        "    plt.imshow(img)\n",
        "    plt.title(f'Predicted: {pred_label}\\nActual: {true_label}',\n",
        "              color='green' if true_label == pred_label else 'red')\n",
        "    plt.axis('off')\n",
        "    plt.show()"
      ]
    },
    {
      "cell_type": "code",
      "execution_count": null,
      "metadata": {
        "id": "q4YOHzvZiAsm"
      },
      "outputs": [],
      "source": []
    }
  ],
  "metadata": {
    "colab": {
      "provenance": []
    },
    "kernelspec": {
      "display_name": "Python 3",
      "name": "python3"
    },
    "language_info": {
      "name": "python"
    }
  },
  "nbformat": 4,
  "nbformat_minor": 0
}