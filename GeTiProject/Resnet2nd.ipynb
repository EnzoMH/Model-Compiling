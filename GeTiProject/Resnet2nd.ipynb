{
  "nbformat": 4,
  "nbformat_minor": 0,
  "metadata": {
    "colab": {
      "provenance": [],
      "gpuType": "T4"
    },
    "kernelspec": {
      "name": "python3",
      "display_name": "Python 3"
    },
    "language_info": {
      "name": "python"
    },
    "accelerator": "GPU"
  },
  "cells": [
    {
      "cell_type": "code",
      "execution_count": 1,
      "metadata": {
        "id": "BQ7nnmjXjIeB"
      },
      "outputs": [],
      "source": [
        "import cv2\n",
        "import os\n",
        "from tensorflow.keras.applications import ResNet50\n",
        "from tensorflow.keras import layers, Sequential\n",
        "from tensorflow.keras.preprocessing.image import ImageDataGenerator\n",
        "from google.colab import drive\n",
        "from tensorflow.keras.models import Model"
      ]
    },
    {
      "cell_type": "code",
      "source": [
        "# Google Drive 마운트\n",
        "drive.mount('/content/drive')\n",
        "\n",
        "# 데이터 경로 설정\n",
        "data_path = '/content/drive/MyDrive/kfood'"
      ],
      "metadata": {
        "id": "L6T_tlp-jVx0",
        "colab": {
          "base_uri": "https://localhost:8080/"
        },
        "outputId": "7c08a120-e165-47fc-f685-16be74775301"
      },
      "execution_count": 2,
      "outputs": [
        {
          "output_type": "stream",
          "name": "stdout",
          "text": [
            "Mounted at /content/drive\n"
          ]
        }
      ]
    },
    {
      "cell_type": "code",
      "source": [
        "# 사전 훈련된 ResNet50 모델 로드\n",
        "base_model = ResNet50(weights='imagenet', include_top=False, input_shape=(224, 224, 3))\n",
        "\n",
        "# 모델 구성\n",
        "model = Sequential()\n",
        "model.add(base_model)  # ResNet50을 기본 모델로 추가\n",
        "model.add(layers.GlobalAveragePooling2D())  # 평균 풀링 층\n",
        "model.add(layers.Dense(64, activation='relu'))  # 커스텀 분류 층\n",
        "model.add(layers.Dropout(0.5))  # 드롭아웃 층\n",
        "model.add(layers.Dense(10, activation='softmax'))  # 최종 출력 층\n",
        "\n",
        "# 기본 모델의 층을 학습 가능하게 설정\n",
        "base_model.trainable = True"
      ],
      "metadata": {
        "id": "DyqP88yKvEy1",
        "colab": {
          "base_uri": "https://localhost:8080/"
        },
        "outputId": "cb9246d9-2847-4b00-c8fd-cfb5d3c905b1"
      },
      "execution_count": 3,
      "outputs": [
        {
          "output_type": "stream",
          "name": "stdout",
          "text": [
            "Downloading data from https://storage.googleapis.com/tensorflow/keras-applications/resnet/resnet50_weights_tf_dim_ordering_tf_kernels_notop.h5\n",
            "94765736/94765736 [==============================] - 0s 0us/step\n"
          ]
        }
      ]
    },
    {
      "cell_type": "code",
      "source": [
        "# 모델 컴파일\n",
        "model.compile(optimizer='adam', loss='categorical_crossentropy', metrics=['accuracy'])"
      ],
      "metadata": {
        "id": "i4K3nLMvkdXR"
      },
      "execution_count": 4,
      "outputs": []
    },
    {
      "cell_type": "code",
      "source": [
        "# Model summary\n",
        "model.summary()"
      ],
      "metadata": {
        "id": "lvAS6Mn0jgkD",
        "colab": {
          "base_uri": "https://localhost:8080/"
        },
        "outputId": "488d3c43-d45d-4512-e7fd-5301eb3371a9"
      },
      "execution_count": 5,
      "outputs": [
        {
          "output_type": "stream",
          "name": "stdout",
          "text": [
            "Model: \"sequential\"\n",
            "_________________________________________________________________\n",
            " Layer (type)                Output Shape              Param #   \n",
            "=================================================================\n",
            " resnet50 (Functional)       (None, 7, 7, 2048)        23587712  \n",
            "                                                                 \n",
            " global_average_pooling2d (  (None, 2048)              0         \n",
            " GlobalAveragePooling2D)                                         \n",
            "                                                                 \n",
            " dense (Dense)               (None, 64)                131136    \n",
            "                                                                 \n",
            " dropout (Dropout)           (None, 64)                0         \n",
            "                                                                 \n",
            " dense_1 (Dense)             (None, 10)                650       \n",
            "                                                                 \n",
            "=================================================================\n",
            "Total params: 23719498 (90.48 MB)\n",
            "Trainable params: 23666378 (90.28 MB)\n",
            "Non-trainable params: 53120 (207.50 KB)\n",
            "_________________________________________________________________\n"
          ]
        }
      ]
    },
    {
      "cell_type": "code",
      "source": [
        "# 데이터 제너레이터 생성\n",
        "train_datagen = ImageDataGenerator(rescale=1./255)\n",
        "val_datagen = ImageDataGenerator(rescale=1./255)"
      ],
      "metadata": {
        "id": "hUmFSRXBkOki"
      },
      "execution_count": 6,
      "outputs": []
    },
    {
      "cell_type": "code",
      "source": [
        "# 훈련 데이터셋 제너레이터 설정\n",
        "train_generator = train_datagen.flow_from_directory(\n",
        "    os.path.join(data_path, 'train'),\n",
        "    target_size=(224, 224),\n",
        "    batch_size=32,\n",
        "    class_mode='categorical',\n",
        "    shuffle=True)  # 훈련 데이터셋 셔플\n",
        "\n",
        "# 검증 데이터셋 제너레이터 설정\n",
        "validation_generator = val_datagen.flow_from_directory(\n",
        "    os.path.join(data_path, 'val'),\n",
        "    target_size=(224, 224),\n",
        "    batch_size=32,\n",
        "    class_mode='categorical',\n",
        "    shuffle=False)  # 검증 데이터셋 셔플하지 않음\n",
        "\n",
        "# 모델 학습\n",
        "history = model.fit(\n",
        "    train_generator,\n",
        "    epochs=30,\n",
        "    validation_data=validation_generator\n",
        ")"
      ],
      "metadata": {
        "id": "dDj-_-AUkRI0",
        "colab": {
          "base_uri": "https://localhost:8080/"
        },
        "outputId": "79a87b6e-5b55-4764-e015-9d58d2177f89"
      },
      "execution_count": null,
      "outputs": [
        {
          "output_type": "stream",
          "name": "stdout",
          "text": [
            "Found 7882 images belonging to 10 classes.\n",
            "Found 1991 images belonging to 10 classes.\n",
            "Epoch 1/30\n",
            "247/247 [==============================] - 2855s 11s/step - loss: 1.4978 - accuracy: 0.5199 - val_loss: 212.4886 - val_accuracy: 0.1005\n",
            "Epoch 2/30\n",
            "247/247 [==============================] - 97s 392ms/step - loss: 1.0275 - accuracy: 0.6873 - val_loss: 7.1483 - val_accuracy: 0.1005\n",
            "Epoch 3/30\n",
            "247/247 [==============================] - 107s 433ms/step - loss: 0.8139 - accuracy: 0.7672 - val_loss: 2.8051 - val_accuracy: 0.2290\n",
            "Epoch 4/30\n",
            "247/247 [==============================] - 98s 396ms/step - loss: 0.5998 - accuracy: 0.8169 - val_loss: 1.1681 - val_accuracy: 0.6665\n",
            "Epoch 5/30\n",
            "247/247 [==============================] - 98s 395ms/step - loss: 0.4470 - accuracy: 0.8627 - val_loss: 1.5218 - val_accuracy: 0.6429\n",
            "Epoch 6/30\n",
            "247/247 [==============================] - 98s 397ms/step - loss: 0.3969 - accuracy: 0.8844 - val_loss: 2.5588 - val_accuracy: 0.6143\n",
            "Epoch 7/30\n",
            "247/247 [==============================] - 97s 394ms/step - loss: 0.3320 - accuracy: 0.9056 - val_loss: 1.0618 - val_accuracy: 0.7845\n",
            "Epoch 8/30\n",
            "247/247 [==============================] - 107s 433ms/step - loss: 0.3019 - accuracy: 0.9146 - val_loss: 3.0220 - val_accuracy: 0.5495\n",
            "Epoch 9/30\n",
            "247/247 [==============================] - 98s 395ms/step - loss: 0.2872 - accuracy: 0.9183 - val_loss: 1.1070 - val_accuracy: 0.7901\n",
            "Epoch 10/30\n",
            "247/247 [==============================] - 97s 393ms/step - loss: 0.2202 - accuracy: 0.9349 - val_loss: 2.5595 - val_accuracy: 0.5811\n",
            "Epoch 11/30\n",
            "247/247 [==============================] - 97s 392ms/step - loss: 0.2008 - accuracy: 0.9421 - val_loss: 1.9462 - val_accuracy: 0.6022\n",
            "Epoch 12/30\n",
            "247/247 [==============================] - 98s 396ms/step - loss: 0.1909 - accuracy: 0.9446 - val_loss: 1.9987 - val_accuracy: 0.6770\n",
            "Epoch 13/30\n",
            "247/247 [==============================] - 97s 393ms/step - loss: 0.2222 - accuracy: 0.9317 - val_loss: 1.2649 - val_accuracy: 0.7318\n",
            "Epoch 14/30\n",
            "247/247 [==============================] - 98s 394ms/step - loss: 0.1561 - accuracy: 0.9556 - val_loss: 1.7339 - val_accuracy: 0.6499\n",
            "Epoch 15/30\n",
            "247/247 [==============================] - 96s 390ms/step - loss: 0.1358 - accuracy: 0.9616 - val_loss: 1.6169 - val_accuracy: 0.7459\n",
            "Epoch 16/30\n",
            "247/247 [==============================] - 97s 391ms/step - loss: 0.1297 - accuracy: 0.9628 - val_loss: 3.5114 - val_accuracy: 0.5485\n",
            "Epoch 17/30\n",
            " 13/247 [>.............................] - ETA: 1:20 - loss: 0.1131 - accuracy: 0.9543"
          ]
        }
      ]
    },
    {
      "cell_type": "code",
      "source": [
        "# Epoch별 train/val accuracy와 Loss변화\n",
        "\n",
        "import matplotlib.pyplot as plt\n",
        "\n",
        "def plot_history(history):\n",
        "    plt.figure(figsize=(12, 4))\n",
        "\n",
        "    plt.subplot(1, 2, 1)\n",
        "    plt.plot(history.history['accuracy'], label='Training Accuracy')\n",
        "    plt.plot(history.history['val_accuracy'], label='Validation Accuracy')\n",
        "    plt.title('Accuracy over epochs')\n",
        "    plt.xlabel('Epoch')\n",
        "    plt.ylabel('Accuracy')\n",
        "    plt.legend()\n",
        "\n",
        "    plt.subplot(1, 2, 2)\n",
        "    plt.plot(history.history['loss'], label='Training Loss')\n",
        "    plt.plot(history.history['val_loss'], label='Validation Loss')\n",
        "    plt.title('Loss over epochs')\n",
        "    plt.xlabel('Epoch')\n",
        "    plt.ylabel('Loss')\n",
        "    plt.legend()\n",
        "\n",
        "    plt.show()\n",
        "\n",
        "plot_history(history)"
      ],
      "metadata": {
        "id": "nIP63vk0wJHC",
        "colab": {
          "base_uri": "https://localhost:8080/",
          "height": 221
        },
        "outputId": "1ede56c4-d5b0-4820-a28f-db5ba9d8dff7"
      },
      "execution_count": null,
      "outputs": [
        {
          "output_type": "error",
          "ename": "NameError",
          "evalue": "ignored",
          "traceback": [
            "\u001b[0;31m---------------------------------------------------------------------------\u001b[0m",
            "\u001b[0;31mNameError\u001b[0m                                 Traceback (most recent call last)",
            "\u001b[0;32m<ipython-input-17-894c11fd0f1b>\u001b[0m in \u001b[0;36m<cell line: 26>\u001b[0;34m()\u001b[0m\n\u001b[1;32m     24\u001b[0m     \u001b[0mplt\u001b[0m\u001b[0;34m.\u001b[0m\u001b[0mshow\u001b[0m\u001b[0;34m(\u001b[0m\u001b[0;34m)\u001b[0m\u001b[0;34m\u001b[0m\u001b[0;34m\u001b[0m\u001b[0m\n\u001b[1;32m     25\u001b[0m \u001b[0;34m\u001b[0m\u001b[0m\n\u001b[0;32m---> 26\u001b[0;31m \u001b[0mplot_history\u001b[0m\u001b[0;34m(\u001b[0m\u001b[0mhistory\u001b[0m\u001b[0;34m)\u001b[0m\u001b[0;34m\u001b[0m\u001b[0;34m\u001b[0m\u001b[0m\n\u001b[0m",
            "\u001b[0;31mNameError\u001b[0m: name 'history' is not defined"
          ]
        }
      ]
    },
    {
      "cell_type": "markdown",
      "source": [
        "## 평가 및 시각화\n"
      ],
      "metadata": {
        "id": "gDRPTEIGzIH1"
      }
    },
    {
      "cell_type": "code",
      "source": [
        "import numpy as np\n",
        "from sklearn.metrics import confusion_matrix\n",
        "import seaborn as sns\n",
        "import matplotlib.pyplot as plt\n",
        "\n",
        "# 모든 검증 데이터에 대한 예측 수행\n",
        "y_pred = model.predict(validation_generator)\n",
        "y_pred_classes = np.argmax(y_pred, axis=1)\n",
        "\n",
        "# 실제 레이블 가져오기\n",
        "y_true = validation_generator.classes\n",
        "\n",
        "# 클래스 이름 가져오기\n",
        "class_names = list(validation_generator.class_indices.keys())\n",
        "\n",
        "# 혼동 행렬 그리기\n",
        "plot_confusion_matrix(y_true, y_pred_classes, classes=class_names)"
      ],
      "metadata": {
        "id": "ms1VhoKXwXxy"
      },
      "execution_count": null,
      "outputs": []
    },
    {
      "cell_type": "code",
      "source": [
        "from sklearn.metrics import classification_report\n",
        "\n",
        "# Accuracy, Precision, Recall, F1-Score 계산\n",
        "print(classification_report(y_true, y_pred_classes, target_names=class_names))"
      ],
      "metadata": {
        "id": "_5y919oOwZkg"
      },
      "execution_count": null,
      "outputs": []
    },
    {
      "cell_type": "code",
      "source": [
        "# 모델 저장\n",
        "model.save(\"resnet_1st.h5\")\n",
        "\n",
        "# 파일 크기 확인\n",
        "import os\n",
        "model_size = os.path.getsize(\"resnet_1st.h5\")\n",
        "print(f\"Model Size: {model_size / 1024 / 1024:.2f} MB\")"
      ],
      "metadata": {
        "id": "WuobH3fDweV4"
      },
      "execution_count": null,
      "outputs": []
    },
    {
      "cell_type": "code",
      "source": [
        "import time\n",
        "\n",
        "# 샘플 데이터 준비 (예: 검증 데이터셋의 첫 번째 배치)\n",
        "X_sample, _ = next(iter(validation_generator))\n",
        "\n",
        "# 추론 시간 측정\n",
        "start_time = time.time()\n",
        "predictions = model.predict(X_sample)\n",
        "end_time = time.time()\n",
        "\n",
        "print(f\"Prediction Time: {end_time - start_time:.4f} seconds\")"
      ],
      "metadata": {
        "id": "85Yc4e1eh2pp"
      },
      "execution_count": null,
      "outputs": []
    },
    {
      "cell_type": "code",
      "source": [
        "import random\n",
        "\n",
        "# 무작위로 100개의 인덱스 선택\n",
        "indices = random.sample(range(len(validation_generator.filenames)), 100)\n",
        "\n",
        "# 시각화\n",
        "for i in indices:\n",
        "    img_path = os.path.join(validation_generator.directory, validation_generator.filenames[i])\n",
        "    img = cv2.imread(img_path)\n",
        "    img = cv2.cvtColor(img, cv2.COLOR_BGR2RGB)\n",
        "    true_label = class_names[y_true[i]]\n",
        "    pred_label = class_names[y_pred_classes[i]]\n",
        "\n",
        "    plt.figure(figsize=(2, 2))\n",
        "    plt.imshow(img)\n",
        "    plt.title(f'Predicted: {pred_label}\\nActual: {true_label}',\n",
        "              color='green' if true_label == pred_label else 'red')\n",
        "    plt.axis('off')\n",
        "    plt.show()"
      ],
      "metadata": {
        "id": "cmOa2GSnxqg8"
      },
      "execution_count": null,
      "outputs": []
    },
    {
      "cell_type": "code",
      "source": [],
      "metadata": {
        "id": "q4YOHzvZiAsm"
      },
      "execution_count": null,
      "outputs": []
    }
  ]
}