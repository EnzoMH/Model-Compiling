{
  "cells": [
    {
      "cell_type": "code",
      "execution_count": 1,
      "metadata": {
        "colab": {
          "base_uri": "https://localhost:8080/"
        },
        "id": "BQ7nnmjXjIeB",
        "outputId": "78ef1082-71a6-4ec0-a0dc-fb11c4bcb72a"
      },
      "outputs": [
        {
          "name": "stdout",
          "output_type": "stream",
          "text": [
            "INFO:nncf:NNCF initialized successfully. Supported frameworks detected: tensorflow, openvino\n"
          ]
        }
      ],
      "source": [
        "import os\n",
        "import cv2\n",
        "import numpy as np\n",
        "from sklearn.model_selection import train_test_split\n",
        "from tensorflow.keras.utils import to_categorical\n",
        "from tensorflow.keras.layers import GlobalAveragePooling2D, Dropout, Dense, BatchNormalization\n",
        "from tensorflow.keras.callbacks import EarlyStopping\n",
        "from tensorflow.keras.preprocessing.image import ImageDataGenerator\n",
        "from tensorflow.keras.optimizers import Adam\n",
        "from tensorflow.keras.applications import EfficientNetB0\n",
        "from tensorflow.keras.models import Sequential\n",
        "# from google.colab import drive\n",
        "from tensorflow.keras.applications import MobileNet\n",
        "import re\n",
        "import subprocess\n",
        "from pathlib import Path\n",
        "from typing import List, Optional\n",
        "\n",
        "import openvino as ov\n",
        "import tensorflow as tf\n",
        "import tensorflow_datasets as tfds\n",
        "from tqdm import tqdm\n",
        "\n",
        "import nncf\n",
        "\n",
        "import random"
      ]
    },
    {
      "cell_type": "code",
      "execution_count": 2,
      "metadata": {
        "colab": {
          "base_uri": "https://localhost:8080/"
        },
        "id": "L6T_tlp-jVx0",
        "outputId": "740625ee-8770-4bf6-d0f6-c0f250287c70"
      },
      "outputs": [
        {
          "name": "stdout",
          "output_type": "stream",
          "text": [
            "레이블 bs의 이미지를 불러오는 중입니다.\n",
            "레이블 kcbkb의 이미지를 불러오는 중입니다.\n",
            "레이블 meetsushi의 이미지를 불러오는 중입니다.\n",
            "레이블 pizza의 이미지를 불러오는 중입니다.\n",
            "레이블 pumpkin의 이미지를 불러오는 중입니다.\n",
            "레이블 spicypolk의 이미지를 불러오는 중입니다.\n",
            "레이블 sushi의 이미지를 불러오는 중입니다.\n",
            "레이블 tbk의 이미지를 불러오는 중입니다.\n",
            "레이블 zb의 이미지를 불러오는 중입니다.\n",
            "레이블 zzm의 이미지를 불러오는 중입니다.\n",
            "레이블 bs의 이미지를 불러오는 중입니다.\n",
            "레이블 kcbkb의 이미지를 불러오는 중입니다.\n",
            "레이블 meetsushi의 이미지를 불러오는 중입니다.\n",
            "레이블 pizza의 이미지를 불러오는 중입니다.\n",
            "레이블 pumpkin의 이미지를 불러오는 중입니다.\n",
            "레이블 spicypolk의 이미지를 불러오는 중입니다.\n",
            "레이블 sushi의 이미지를 불러오는 중입니다.\n",
            "레이블 tbk의 이미지를 불러오는 중입니다.\n",
            "레이블 zb의 이미지를 불러오는 중입니다.\n",
            "레이블 zzm의 이미지를 불러오는 중입니다.\n"
          ]
        }
      ],
      "source": [
        "import cv2\n",
        "import os\n",
        "import numpy as np\n",
        "\n",
        "def load_and_preprocess_data(path):\n",
        "    X = []\n",
        "    Y = []\n",
        "\n",
        "    # 각 레이블에 대한 이미지를 불러오고 전처리\n",
        "    for label in ('bs', 'kcbkb', 'meetsushi', 'pizza', 'pumpkin', 'spicypolk', 'sushi', 'tbk', 'zb', 'zzm'):\n",
        "        print(\"레이블 \" + label + \"의 이미지를 불러오는 중입니다.\")\n",
        "\n",
        "        label_path = os.path.join(path, label)\n",
        "        if not os.path.isdir(label_path):\n",
        "            print(f\"디렉토리를 찾을 수 없습니다: {label_path}\")\n",
        "            continue\n",
        "\n",
        "        for filename in os.listdir(label_path):\n",
        "            file_path = os.path.join(label_path, filename)\n",
        "            img = cv2.imread(file_path)\n",
        "\n",
        "            if img is None:\n",
        "                print(f\"이미지를 불러올 수 없습니다: {file_path}\")\n",
        "                continue\n",
        "\n",
        "            # 이미지 크기 조정 (224x224로 리사이즈)\n",
        "            img = cv2.resize(img, (224, 224))\n",
        "            X.append(img)\n",
        "            Y.append(['bs', 'kcbkb', 'meetsushi', 'pizza', 'pumpkin', 'spicypolk', 'sushi', 'tbk', 'zb', 'zzm'].index(label))\n",
        "\n",
        "    X = np.array(X)\n",
        "    Y = np.array(Y)\n",
        "\n",
        "    return X, Y\n",
        "\n",
        "# 데이터를 불러올 디렉토리 경로를 지정\n",
        "data_path = 'C:\\\\Users\\\\MyoengHo Shin\\\\Desktop\\\\kfood'\n",
        "X_train, y_train = load_and_preprocess_data(os.path.join(data_path, 'train'))\n",
        "X_val, y_val = load_and_preprocess_data(os.path.join(data_path, 'val'))\n",
        "\n",
        "\n"
      ]
    },
    {
      "cell_type": "code",
      "execution_count": 3,
      "metadata": {
        "colab": {
          "base_uri": "https://localhost:8080/"
        },
        "id": "DyqP88yKvEy1",
        "outputId": "ef841a73-03d5-4da9-99c2-9eb2e889633a"
      },
      "outputs": [],
      "source": [
        "# 데이터 정규화\n",
        "X_train = X_train.astype('float32') / 255\n",
        "X_val = X_val.astype('float32') / 255\n",
        "\n",
        "# 데이터 증강 설정 (학습 데이터셋에만 적용)\n",
        "datagen = ImageDataGenerator(\n",
        "    rotation_range=20,\n",
        "    width_shift_range=0.2,\n",
        "    height_shift_range=0.2,\n",
        "    horizontal_flip=True)\n",
        "\n",
        "datagen.fit(X_train)"
      ]
    },
    {
      "cell_type": "code",
      "execution_count": 4,
      "metadata": {
        "id": "i4K3nLMvkdXR"
      },
      "outputs": [],
      "source": [
        "# 데이터를 8:2로 나누어 학습 데이터와 검증 데이터로 사용\n",
        "X_train_split, X_val_split, y_train_split, y_val_split = train_test_split(X_train, y_train, test_size=0.2, random_state=42)\n",
        "\n",
        "# 레이블을 원-핫 인코딩으로 변환\n",
        "y_train_encoded = to_categorical(y_train_split)\n",
        "y_val_encoded = to_categorical(y_val_split)"
      ]
    },
    {
      "cell_type": "code",
      "execution_count": 5,
      "metadata": {
        "id": "lvAS6Mn0jgkD"
      },
      "outputs": [
        {
          "name": "stdout",
          "output_type": "stream",
          "text": [
            "Downloading data from https://storage.googleapis.com/tensorflow/keras-applications/resnet/resnet50_weights_tf_dim_ordering_tf_kernels_notop.h5\n",
            "94765736/94765736 [==============================] - 3s 0us/step\n"
          ]
        }
      ],
      "source": [
        "from tensorflow.keras.applications import ResNet50\n",
        "from tensorflow.keras.models import Sequential\n",
        "from tensorflow.keras.layers import GlobalAveragePooling2D, Dense\n",
        "from tensorflow.keras.optimizers import Adam\n",
        "\n",
        "# ResNet50 모델 불러오기\n",
        "base_model = ResNet50(input_shape=(224, 224, 3), include_top=False, weights='imagenet')\n",
        "\n",
        "# 모델 커스터마이징\n",
        "model = Sequential([\n",
        "    base_model,\n",
        "    GlobalAveragePooling2D(),\n",
        "    Dense(1024, activation='relu'),\n",
        "    Dense(10, activation='softmax')  \n",
        "])\n"
      ]
    },
    {
      "cell_type": "code",
      "execution_count": 6,
      "metadata": {
        "colab": {
          "base_uri": "https://localhost:8080/"
        },
        "id": "hUmFSRXBkOki",
        "outputId": "3b41f381-56bf-45e2-fe00-ec6f530b4738"
      },
      "outputs": [
        {
          "name": "stdout",
          "output_type": "stream",
          "text": [
            "Model: \"sequential\"\n",
            "_________________________________________________________________\n",
            " Layer (type)                Output Shape              Param #   \n",
            "=================================================================\n",
            " resnet50 (Functional)       (None, 7, 7, 2048)        23587712  \n",
            "                                                                 \n",
            " global_average_pooling2d (  (None, 2048)              0         \n",
            " GlobalAveragePooling2D)                                         \n",
            "                                                                 \n",
            " dense (Dense)               (None, 1024)              2098176   \n",
            "                                                                 \n",
            " dense_1 (Dense)             (None, 10)                10250     \n",
            "                                                                 \n",
            "=================================================================\n",
            "Total params: 25696138 (98.02 MB)\n",
            "Trainable params: 25643018 (97.82 MB)\n",
            "Non-trainable params: 53120 (207.50 KB)\n",
            "_________________________________________________________________\n"
          ]
        }
      ],
      "source": [
        "# Model summary\n",
        "model.summary()"
      ]
    },
    {
      "cell_type": "code",
      "execution_count": 7,
      "metadata": {
        "colab": {
          "base_uri": "https://localhost:8080/"
        },
        "id": "dDj-_-AUkRI0",
        "outputId": "ef0a5bea-eac1-408b-fa0b-0a5e2730e287"
      },
      "outputs": [
        {
          "name": "stderr",
          "output_type": "stream",
          "text": [
            "WARNING:absl:`lr` is deprecated in Keras optimizer, please use `learning_rate` or use the legacy optimizer, e.g.,tf.keras.optimizers.legacy.Adam.\n"
          ]
        },
        {
          "name": "stdout",
          "output_type": "stream",
          "text": [
            "Epoch 1/50\n"
          ]
        }
      ],
      "source": [
        "# 모델 컴파일\n",
        "model.compile(optimizer=Adam(lr=0.0001), loss='categorical_crossentropy', metrics=['accuracy'])\n",
        "\n",
        "# Epoch\n",
        "history = model.fit(datagen.flow(X_train_split, y_train_encoded, batch_size=32),\n",
        "                    steps_per_epoch=len(X_train_split) / 32,\n",
        "                    epochs=50,\n",
        "                    validation_data=(datagen.flow(X_val_split, y_val_encoded, batch_size=32)))"
      ]
    },
    {
      "cell_type": "code",
      "execution_count": null,
      "metadata": {
        "colab": {
          "base_uri": "https://localhost:8080/",
          "height": 410
        },
        "id": "nIP63vk0wJHC",
        "outputId": "fc25eed2-46a8-42ad-eba9-fe57be6e1e99"
      },
      "outputs": [
        {
          "data": {
            "image/png": "[encoded data removed]",
            "text/plain": [
              "<Figure size 1200x400 with 2 Axes>"
            ]
          },
          "metadata": {},
          "output_type": "display_data"
        }
      ],
      "source": [
        "# Epoch별 train/val accuracy와 Loss변화\n",
        "\n",
        "import matplotlib.pyplot as plt\n",
        "\n",
        "def plot_history(history):\n",
        "    plt.figure(figsize=(12, 4))\n",
        "\n",
        "    plt.subplot(1, 2, 1)\n",
        "    plt.plot(history.history['accuracy'], label='Training Accuracy')\n",
        "    plt.plot(history.history['val_accuracy'], label='Validation Accuracy')\n",
        "    plt.title('Accuracy over epochs')\n",
        "    plt.xlabel('Epoch')\n",
        "    plt.ylabel('Accuracy')\n",
        "    plt.legend()\n",
        "\n",
        "    plt.subplot(1, 2, 2)\n",
        "    plt.plot(history.history['loss'], label='Training Loss')\n",
        "    plt.plot(history.history['val_loss'], label='Validation Loss')\n",
        "    plt.title('Loss over epochs')\n",
        "    plt.xlabel('Epoch')\n",
        "    plt.ylabel('Loss')\n",
        "    plt.legend()\n",
        "\n",
        "    plt.show()\n",
        "\n",
        "plot_history(history)"
      ]
    },
    {
      "cell_type": "markdown",
      "metadata": {
        "id": "gDRPTEIGzIH1"
      },
      "source": [
        "## 평가 및 시각화\n"
      ]
    },
    {
      "cell_type": "code",
      "execution_count": null,
      "metadata": {
        "colab": {
          "base_uri": "https://localhost:8080/",
          "height": 258
        },
        "id": "ms1VhoKXwXxy",
        "outputId": "a6e09ce3-ef81-4a7b-f2b7-8728a0d13a1f"
      },
      "outputs": [
        {
          "ename": "NameError",
          "evalue": "ignored",
          "output_type": "error",
          "traceback": [
            "\u001b[0;31m---------------------------------------------------------------------------\u001b[0m",
            "\u001b[0;31mNameError\u001b[0m                                 Traceback (most recent call last)",
            "\u001b[0;32m<ipython-input-24-c49eec81871a>\u001b[0m in \u001b[0;36m<cell line: 14>\u001b[0;34m()\u001b[0m\n\u001b[1;32m     12\u001b[0m     \u001b[0mplt\u001b[0m\u001b[0;34m.\u001b[0m\u001b[0mshow\u001b[0m\u001b[0;34m(\u001b[0m\u001b[0;34m)\u001b[0m\u001b[0;34m\u001b[0m\u001b[0;34m\u001b[0m\u001b[0m\n\u001b[1;32m     13\u001b[0m \u001b[0;34m\u001b[0m\u001b[0m\n\u001b[0;32m---> 14\u001b[0;31m \u001b[0my_pred\u001b[0m \u001b[0;34m=\u001b[0m \u001b[0mmodel\u001b[0m\u001b[0;34m.\u001b[0m\u001b[0mpredict\u001b[0m\u001b[0;34m(\u001b[0m\u001b[0mX_test\u001b[0m\u001b[0;34m)\u001b[0m\u001b[0;34m\u001b[0m\u001b[0;34m\u001b[0m\u001b[0m\n\u001b[0m\u001b[1;32m     15\u001b[0m \u001b[0my_pred_classes\u001b[0m \u001b[0;34m=\u001b[0m \u001b[0mnp\u001b[0m\u001b[0;34m.\u001b[0m\u001b[0margmax\u001b[0m\u001b[0;34m(\u001b[0m\u001b[0my_pred\u001b[0m\u001b[0;34m,\u001b[0m \u001b[0maxis\u001b[0m\u001b[0;34m=\u001b[0m\u001b[0;36m1\u001b[0m\u001b[0;34m)\u001b[0m\u001b[0;34m\u001b[0m\u001b[0;34m\u001b[0m\u001b[0m\n\u001b[1;32m     16\u001b[0m \u001b[0mplot_confusion_matrix\u001b[0m\u001b[0;34m(\u001b[0m\u001b[0my_test\u001b[0m\u001b[0;34m,\u001b[0m \u001b[0my_pred_classes\u001b[0m\u001b[0;34m,\u001b[0m \u001b[0mclasses\u001b[0m\u001b[0;34m=\u001b[0m\u001b[0;34m[\u001b[0m\u001b[0;34m'bs'\u001b[0m\u001b[0;34m,\u001b[0m \u001b[0;34m'kbckb'\u001b[0m\u001b[0;34m,\u001b[0m \u001b[0;34m'meetsushi'\u001b[0m\u001b[0;34m,\u001b[0m \u001b[0;34m'pizza'\u001b[0m\u001b[0;34m,\u001b[0m \u001b[0;34m'pumpkin'\u001b[0m\u001b[0;34m,\u001b[0m \u001b[0;34m'spicypolk'\u001b[0m\u001b[0;34m,\u001b[0m \u001b[0;34m'sushi'\u001b[0m\u001b[0;34m,\u001b[0m \u001b[0;34m'tbk'\u001b[0m\u001b[0;34m,\u001b[0m \u001b[0;34m'zb'\u001b[0m\u001b[0;34m,\u001b[0m \u001b[0;34m'zzm'\u001b[0m\u001b[0;34m]\u001b[0m\u001b[0;34m)\u001b[0m\u001b[0;34m\u001b[0m\u001b[0;34m\u001b[0m\u001b[0m\n",
            "\u001b[0;31mNameError\u001b[0m: name 'X_test' is not defined"
          ]
        }
      ],
      "source": [
        "# 평가지표 - 혼동행렬\n",
        "from sklearn.metrics import confusion_matrix\n",
        "import seaborn as sns\n",
        "\n",
        "def plot_confusion_matrix(y_true, y_pred, classes):\n",
        "    cm = confusion_matrix(y_true, y_pred)\n",
        "    plt.figure(figsize=(10, 10))\n",
        "    sns.heatmap(cm, annot=True, fmt=\"d\", cmap='Blues', xticklabels=classes, yticklabels=classes)\n",
        "    plt.title('Confusion Matrix')\n",
        "    plt.ylabel('Actual Labels')\n",
        "    plt.xlabel('Predicted Labels')\n",
        "    plt.show()\n",
        "\n",
        "y_pred = model.predict(X_test)\n",
        "y_pred_classes = np.argmax(y_pred, axis=1)\n",
        "plot_confusion_matrix(y_test, y_pred_classes, classes=['bs', 'kbckb', 'meetsushi', 'pizza', 'pumpkin', 'spicypolk', 'sushi', 'tbk', 'zb', 'zzm'])"
      ]
    },
    {
      "cell_type": "code",
      "execution_count": null,
      "metadata": {
        "id": "_5y919oOwZkg"
      },
      "outputs": [],
      "source": [
        "# 평가지표\n",
        "from sklearn.metrics import classification_report\n",
        "\n",
        "def print_classification_report(y_true, y_pred):\n",
        "    report = classification_report(y_true, y_pred, target_names=['bs', 'kbckb', 'meetsushi', 'pizza', 'pumpkin', 'spicypolk', 'sushi', 'tbk', 'zb', 'zzm'])\n",
        "    print(report)\n",
        "\n",
        "print_classification_report(y_test, y_pred_classes)"
      ]
    },
    {
      "cell_type": "code",
      "execution_count": null,
      "metadata": {
        "id": "WuobH3fDweV4"
      },
      "outputs": [],
      "source": [
        "#모델용량 및 추론시간\n",
        "import time\n",
        "import os\n",
        "import tensorflow.keras.backend as K\n",
        "\n",
        "def get_model_size(model):\n",
        "    model.save(\"temp_model\")\n",
        "    size = os.path.getsize(\"temp_model\") / (1024 * 1024)  # Convert bytes to MB\n",
        "    os.remove('temp_model')  # Clean up\n",
        "    return size\n",
        "\n",
        "def predict_time(model, sample):\n",
        "    start = time.time()\n",
        "    model.predict(sample)\n",
        "    end = time.time()\n",
        "    return end - start\n",
        "\n",
        "# 모델 사이즈\n",
        "model_size = get_model_size(model)\n",
        "print(f\"Model size: {model_size:.2f} MB\")\n",
        "\n",
        "# 샘플당 추론 시간\n",
        "sample_inference_time = predict_time(model, np.expand_dims(X_test[0], axis=0))\n",
        "print(f\"Sample inference time: {sample_inference_time:.4f} seconds\")"
      ]
    },
    {
      "cell_type": "code",
      "execution_count": null,
      "metadata": {
        "id": "cmOa2GSnxqg8"
      },
      "outputs": [],
      "source": [
        "# Val Set 예측결과 (50장 무작위 선택, 예측성공 및 예측실패, 예측정확도 표현)\n",
        "import numpy as np\n",
        "import matplotlib.pyplot as plt\n",
        "\n",
        "# 검증 데이터셋에서 무작위로 50장 선택\n",
        "num_samples = 50\n",
        "random_indices = np.random.choice(len(X_val), num_samples, replace=False)\n",
        "sample_images = X_val[random_indices]\n",
        "sample_labels = y_val[random_indices]\n",
        "\n",
        "# 예측 수행\n",
        "predicted_labels = np.argmax(model.predict(sample_images), axis=1)\n",
        "\n",
        "# 시각화\n",
        "for i in range(num_samples):\n",
        "    plt.subplot(5, 10, i+1)\n",
        "    plt.imshow(sample_images[i])\n",
        "    plt.axis('off')\n",
        "    if sample_labels[i] == predicted_labels[i]:\n",
        "        color = 'green'\n",
        "    else:\n",
        "        color = 'red'\n",
        "    plt.title(classes[predicted_labels[i]], color=color, fontsize=8)\n",
        "\n",
        "plt.tight_layout()\n",
        "plt.show()\n",
        "\n",
        "accuracy = np.sum(sample_labels == predicted_labels) / num_samples\n",
        "print(f\"Accuracy on the sampled images: {accuracy * 100:.2f}%\")"
      ]
    },
    {
      "cell_type": "code",
      "execution_count": null,
      "metadata": {},
      "outputs": [],
      "source": []
    }
  ],
  "metadata": {
    "colab": {
      "provenance": []
    },
    "kernelspec": {
      "display_name": "Python 3",
      "name": "python3"
    },
    "language_info": {
      "codemirror_mode": {
        "name": "ipython",
        "version": 3
      },
      "file_extension": ".py",
      "mimetype": "text/x-python",
      "name": "python",
      "nbconvert_exporter": "python",
      "pygments_lexer": "ipython3",
      "version": "3.11.5"
    }
  },
  "nbformat": 4,
  "nbformat_minor": 0
}
