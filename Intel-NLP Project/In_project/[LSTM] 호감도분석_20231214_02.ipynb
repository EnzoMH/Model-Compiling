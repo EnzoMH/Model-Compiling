{
  "cells": [
    {
      "cell_type": "markdown",
      "metadata": {
        "id": "QyimF4i_4BRs"
      },
      "source": [
        "## 1. Library Importing"
      ]
    },
    {
      "cell_type": "code",
      "execution_count": 19,
      "metadata": {
        "id": "f57FFUJj4BRu"
      },
      "outputs": [],
      "source": [
        "import nltk # 텍스트 데이터를 처리\n",
        "import numpy as np # 말뭉치를 배열로 표현\n",
        "import random\n",
        "import operator\n",
        "import string # 표준 파이썬 문자열을 처리\n",
        "import re\n",
        "from sklearn.metrics.pairwise import cosine_similarity # 이를 나중에 사용하여 두 개의 문장이 얼마나 비슷한지를 결정합니다.\n",
        "from sklearn.feature_extraction.text import TfidfVectorizer # Experience 2에서 단어 가방을 만드는 함수를 만들었던 것을 기억하십니까? 이 함수는 같은 일을 합니다!\n",
        "import re\n",
        "\n",
        "from google.colab import drive\n",
        "\n",
        "from sklearn.model_selection import train_test_split\n",
        "from sklearn.linear_model import LogisticRegression  # LogisticRegression import 추가\n",
        "\n",
        "import os\n",
        "import numpy as np\n",
        "from google.colab import drive"
      ]
    },
    {
      "cell_type": "markdown",
      "metadata": {
        "id": "nCuEVCo-4BRw"
      },
      "source": [
        "## 2. Data Uploading"
      ]
    },
    {
      "cell_type": "code",
      "execution_count": 20,
      "metadata": {
        "colab": {
          "base_uri": "https://localhost:8080/"
        },
        "id": "4ZO8kByo4BRw",
        "outputId": "08b50948-2181-4354-9f28-e956010dcd93"
      },
      "outputs": [
        {
          "output_type": "stream",
          "name": "stdout",
          "text": [
            "Drive already mounted at /content/drive; to attempt to forcibly remount, call drive.mount(\"/content/drive\", force_remount=True).\n",
            "Loading text files for the label: 0\n",
            "Loading text files for the label: 25\n",
            "Loading text files for the label: 50\n",
            "Loading text files for the label: 75\n",
            "Loading text files for the label: 100\n"
          ]
        }
      ],
      "source": [
        "  # Colab에서 Google 드라이브를 마운트하기 위한 라이브러리\n",
        "\n",
        "# 구글 드라이브 마운트\n",
        "drive.mount('/content/drive')\n",
        "\n",
        "def loadfile(path):\n",
        "    X = []\n",
        "    Y = []\n",
        "\n",
        "    for label in ('0', '25', '50', '75', '100'):\n",
        "        print(\"Loading text files for the label: \" + label)\n",
        "\n",
        "        label_path = os.path.join(path, label)\n",
        "        for filename in os.listdir(label_path):\n",
        "            if filename.endswith('.txt'):\n",
        "                with open(os.path.join(label_path, filename), 'r', encoding='utf-8') as file:\n",
        "                    text = file.read()\n",
        "\n",
        "                # 레이블을 숫자로 변환\n",
        "                if label == '0':\n",
        "                    Y.append(0)\n",
        "                elif label == '25':\n",
        "                    Y.append(1)\n",
        "                elif label == '50':\n",
        "                    Y.append(2)\n",
        "                elif label == '75':\n",
        "                    Y.append(3)\n",
        "                elif label == '100':\n",
        "                    Y.append(4)\n",
        "\n",
        "                # 텍스트 데이터를 X에 추가\n",
        "                X.append(text)\n",
        "\n",
        "    X = np.array(X)\n",
        "    Y = np.array(Y)\n",
        "\n",
        "    return X, Y\n",
        "\n",
        "# 경로를 구글 드라이브 경로로 변경\n",
        "directory_path = '/content/drive/MyDrive/likeability_Son/'\n",
        "\n",
        "# loadfile 함수 호출\n",
        "X, Y = loadfile(directory_path)"
      ]
    },
    {
      "cell_type": "code",
      "execution_count": 3,
      "metadata": {
        "colab": {
          "base_uri": "https://localhost:8080/"
        },
        "id": "fIa702rGVyCL",
        "outputId": "52a851e7-f848-42f1-96cd-32e1e3a3a7e4"
      },
      "outputs": [
        {
          "output_type": "stream",
          "name": "stdout",
          "text": [
            "X shape: (500,)\n",
            "Y shape: (500,)\n"
          ]
        }
      ],
      "source": [
        "print(\"X shape:\", X.shape)\n",
        "print(\"Y shape:\", Y.shape)"
      ]
    },
    {
      "cell_type": "code",
      "execution_count": 21,
      "metadata": {
        "colab": {
          "base_uri": "https://localhost:8080/"
        },
        "id": "ux0_bAitWCCS",
        "outputId": "325e066e-d42c-41c9-8b5f-6a39548ad77d"
      },
      "outputs": [
        {
          "output_type": "stream",
          "name": "stdout",
          "text": [
            "Number of .txt files in label 0: 100\n",
            "Number of .txt files in label 25: 100\n",
            "Number of .txt files in label 50: 100\n",
            "Number of .txt files in label 75: 100\n",
            "Number of .txt files in label 100: 100\n"
          ]
        }
      ],
      "source": [
        "def count_txt_files(path):\n",
        "    file_counts = {}\n",
        "\n",
        "    for label in ('0', '25', '50', '75', '100'):\n",
        "        label_path = os.path.join(path, label)\n",
        "        txt_files = [filename for filename in os.listdir(label_path) if filename.endswith('.txt')]\n",
        "        file_counts[label] = len(txt_files)\n",
        "\n",
        "    return file_counts\n",
        "\n",
        "# 경로를 구글 드라이브 경로로 변경\n",
        "directory_path = '/content/drive/MyDrive/likeability_Son/'\n",
        "\n",
        "# .txt 파일 수 확인\n",
        "file_counts = count_txt_files(directory_path)\n",
        "\n",
        "# 결과 출력\n",
        "for label, count in file_counts.items():\n",
        "    print(f\"Number of .txt files in label {label}: {count}\")"
      ]
    },
    {
      "cell_type": "markdown",
      "metadata": {
        "id": "QlECzPTTYyT5"
      },
      "source": [
        "## 3. Data Refining"
      ]
    },
    {
      "cell_type": "code",
      "execution_count": 22,
      "metadata": {
        "id": "aaXFwfltZCwn"
      },
      "outputs": [],
      "source": [
        "def clean_str(string):\n",
        "    string = re.sub(r\"[^가-힝A-Za-z0-9(),!?\\'\\`]\", \" \", string)\n",
        "    string = re.sub(r\"\\'s\", \" \\'s\", string)\n",
        "    string = re.sub(r\"\\'ve\", \" \\'ve\", string)\n",
        "    string = re.sub(r\"n\\'t\", \" n\\'t\", string)\n",
        "    string = re.sub(r\"\\'re\", \" \\'re\", string)\n",
        "    string = re.sub(r\"\\'d\", \" \\'d\", string)\n",
        "    string = re.sub(r\"\\'ll\", \" \\'ll\", string)\n",
        "    string = re.sub(r\",\", \" , \", string)\n",
        "    string = re.sub(r\"!\", \" ! \", string)\n",
        "    string = re.sub(r\"\\(\", \" \\( \", string)\n",
        "    string = re.sub(r\"\\)\", \" \\) \", string)\n",
        "    string = re.sub(r\"\\?\", \" \\? \", string)\n",
        "    string = re.sub(r\":\", \" : \", string)  # 콜론은 다른 문자로 대체하지 않음\n",
        "    string = re.sub(r\"\\s{2,}\", \" \", string)\n",
        "\n",
        "    return string.lower()"
      ]
    },
    {
      "cell_type": "code",
      "execution_count": 23,
      "metadata": {
        "id": "_lyYEhTuvz58"
      },
      "outputs": [],
      "source": [
        "from tensorflow.keras.preprocessing.text import Tokenizer\n",
        "from tensorflow.keras.preprocessing.sequence import pad_sequences\n",
        "import re\n",
        "\n",
        "def clean_text(text):\n",
        "    text = text.lower()  # 소문자화\n",
        "    text = re.sub(r'[.:]', '', text)  # 특정 기호 제거\n",
        "    text = re.sub(r'\\s+', ' ', text)  # 공백 정규화\n",
        "    return text"
      ]
    },
    {
      "cell_type": "markdown",
      "metadata": {
        "id": "eli_2pxczaq-"
      },
      "source": [
        "## 4. 호감도 가중치 증가 함수"
      ]
    },
    {
      "cell_type": "markdown",
      "metadata": {
        "id": "JWbISKOOweHx"
      },
      "source": [
        "4-1. 이모지 사용 함수"
      ]
    },
    {
      "cell_type": "code",
      "execution_count": 24,
      "metadata": {
        "id": "_nz2COlnwABg"
      },
      "outputs": [],
      "source": [
        "def count_emojis(text):\n",
        "    emoji_pattern = re.compile('['\n",
        "        u'\\U0001F600-\\U0001F64F'  # emoticons\n",
        "        u'\\U0001F300-\\U0001F5FF'  # symbols & pictographs\n",
        "        ']', flags=re.UNICODE)\n",
        "    return len(emoji_pattern.findall(text))\n"
      ]
    },
    {
      "cell_type": "markdown",
      "metadata": {
        "id": "1xFjZQMGwgPz"
      },
      "source": [
        "4.2. 대화 양방향성 관련 함수"
      ]
    },
    {
      "cell_type": "code",
      "execution_count": 25,
      "metadata": {
        "id": "mijm9AY8wcn8"
      },
      "outputs": [],
      "source": [
        "def check_bidirectional_conversation(text):\n",
        "    a_contributions = len(re.findall(r'A:', text))\n",
        "    b_contributions = len(re.findall(r'B:', text))\n",
        "    return a_contributions > 0 and b_contributions > 0"
      ]
    },
    {
      "cell_type": "markdown",
      "metadata": {
        "id": "x-PEUuouZQnR"
      },
      "source": [
        "4-3. 답장 속도 기반 호감도 예측"
      ]
    },
    {
      "cell_type": "code",
      "execution_count": 26,
      "metadata": {
        "id": "GBJjqzhK4BRx"
      },
      "outputs": [],
      "source": [
        "from datetime import datetime\n",
        "import re\n",
        "import numpy as np\n",
        "\n",
        "# 대화 데이터를 .txt 파일에서 불러오기\n",
        "conversation = []\n",
        "for label in ('0', '25', '50', '75', '100'):\n",
        "    label_path = os.path.join(directory_path, label)\n",
        "    for filename in os.listdir(label_path):\n",
        "        if filename.endswith('.txt'):\n",
        "            with open(os.path.join(label_path, filename), 'r', encoding='utf-8') as file:\n",
        "                conversation.extend(file.readlines())\n",
        "\n",
        "# 호감도 레이블 생성 함수\n",
        "def create_likeability_labels(conversation):\n",
        "    response_times = []\n",
        "    last_message_time = None\n",
        "\n",
        "    for line in conversation:\n",
        "        if line.startswith(\"A:\") or line.startswith(\"B:\"):\n",
        "            # 시간 정보 추출 및 변환\n",
        "            time_str = re.search(r'\\((\\d{2}):(\\d{2})\\)', line)\n",
        "            if time_str:\n",
        "                hours, minutes = map(int, time_str.groups())\n",
        "                current_time = hours * 60 + minutes  # Convert to minutes\n",
        "\n",
        "                # 답장 속도 계산\n",
        "                if last_message_time is not None:\n",
        "                    response_time = current_time - last_message_time\n",
        "                    response_times.append(response_time)\n",
        "                last_message_time = current_time\n",
        "\n",
        "    # 평균 응답 시간 계산 및 호감도 레이블 생성\n",
        "    avg_response_times = np.mean(response_times) if response_times else 0\n",
        "    likeability_labels = []\n",
        "    for response_time in response_times:\n",
        "        if response_time <= 10:\n",
        "            likeability = 100\n",
        "        elif response_time <= 30:\n",
        "            likeability = 75\n",
        "        elif response_time <= 60:\n",
        "            likeability = 50\n",
        "        elif response_time <= 180:\n",
        "            likeability = 25\n",
        "        else:\n",
        "            likeability = 0\n",
        "        likeability_labels.append(likeability)\n",
        "\n",
        "    return likeability_labels\n",
        "\n",
        "# 대화 데이터를 기반으로 호감도 레이블 생성\n",
        "likeability_labels = create_likeability_labels(conversation)\n"
      ]
    },
    {
      "cell_type": "markdown",
      "metadata": {
        "id": "8mdg09C7wTrq"
      },
      "source": [
        "## 4."
      ]
    },
    {
      "cell_type": "code",
      "source": [
        "from tensorflow.keras.preprocessing.text import Tokenizer\n",
        "from tensorflow.keras.preprocessing.sequence import pad_sequences\n",
        "\n",
        "# 텍스트 데이터를 토큰화\n",
        "tokenizer = Tokenizer(num_words=10000)  # 가장 빈도가 높은 10,000개의 단어만 사용\n",
        "tokenizer.fit_on_texts(X_train)\n",
        "\n",
        "# 텍스트 데이터를 시퀀스로 변환\n",
        "X_train_seq = tokenizer.texts_to_sequences(X_train)\n",
        "X_val_seq = tokenizer.texts_to_sequences(X_val)\n",
        "X_test_seq = tokenizer.texts_to_sequences(X_test)\n",
        "\n",
        "# 시퀀스를 일정한 길이로 패딩\n",
        "max_sequence_length = 100  # 예시로 시퀀스 길이를 100으로 설정\n",
        "X_train_padded = pad_sequences(X_train_seq, maxlen=max_sequence_length)\n",
        "X_val_padded = pad_sequences(X_val_seq, maxlen=max_sequence_length)\n",
        "X_test_padded = pad_sequences(X_test_seq, maxlen=max_sequence_length)"
      ],
      "metadata": {
        "id": "jnWjanVE_E_3"
      },
      "execution_count": 27,
      "outputs": []
    },
    {
      "cell_type": "code",
      "source": [
        "from tensorflow.keras.models import Sequential\n",
        "from tensorflow.keras.layers import Embedding, LSTM, Dense, Dropout\n",
        "from tensorflow.keras.regularizers import l1_l2\n",
        "\n",
        "model = Sequential()\n",
        "model.add(Embedding(10000, 64, input_length=max_sequence_length))\n",
        "model.add(LSTM(1024, return_sequences=True, kernel_regularizer=l1_l2(l1=0.01, l2=0.01)))\n",
        "model.add(LSTM(512, return_sequences=True, kernel_regularizer=l1_l2(l1=0.01, l2=0.01)))\n",
        "model.add(LSTM(256, return_sequences=True, kernel_regularizer=l1_l2(l1=0.01, l2=0.01)))\n",
        "model.add(LSTM(128, return_sequences=True, kernel_regularizer=l1_l2(l1=0.01, l2=0.01)))\n",
        "model.add(Dropout(0.5))\n",
        "model.add(LSTM(64, kernel_regularizer=l1_l2(l1=0.01, l2=0.01), return_sequences=False))\n",
        "model.add(Dense(5, activation='softmax')) # 5개의 클래스 (0, 25, 50, 75, 100)\n",
        "\n",
        "model.compile(optimizer='adam', loss='sparse_categorical_crossentropy', metrics=['accuracy'])"
      ],
      "metadata": {
        "id": "-HqIUN4iAISc"
      },
      "execution_count": 34,
      "outputs": []
    },
    {
      "cell_type": "code",
      "execution_count": 15,
      "metadata": {
        "id": "Hc81XOCPzubM"
      },
      "outputs": [],
      "source": []
    },
    {
      "cell_type": "code",
      "source": [
        "print(X_train.shape)"
      ],
      "metadata": {
        "colab": {
          "base_uri": "https://localhost:8080/"
        },
        "id": "kD3B92C899JY",
        "outputId": "231b826e-7be0-49b2-e1fd-395fe23492bf"
      },
      "execution_count": 40,
      "outputs": [
        {
          "output_type": "stream",
          "name": "stdout",
          "text": [
            "(350,)\n"
          ]
        }
      ]
    },
    {
      "cell_type": "code",
      "source": [
        "from sklearn.model_selection import train_test_split\n",
        "\n",
        "# 먼저 데이터를 Train (70%)과 Test (30%)로 분할\n",
        "X_train, X_temp, Y_train, Y_temp = train_test_split(X, Y, test_size=0.3, random_state=42)\n",
        "\n",
        "# X_temp, Y_temp를 다시 Train (70% of 30%)과 Validation (30% of 30%)으로 분할\n",
        "# 최종 비율: Train 70%, Test 20%, Validation 10%\n",
        "X_val, X_test, Y_val, Y_test = train_test_split(X_temp, Y_temp, test_size=2/3, random_state=42)\n",
        "\n",
        "# 모델 훈련\n",
        "history = model.fit(X_train_padded, Y_train, epochs=100, batch_size=8, validation_data=(X_val_padded, Y_val))\n",
        "\n",
        "# 모델 평가\n",
        "test_loss, test_accuracy = model.evaluate(X_test_padded, Y_test)\n",
        "print(f'Test Loss: {test_loss:.4f}, Test Accuracy: {test_accuracy:.4f}')"
      ],
      "metadata": {
        "colab": {
          "base_uri": "https://localhost:8080/"
        },
        "id": "EbaLjgkN3oX7",
        "outputId": "ce2884bf-41c0-441a-fcf8-da857961399e"
      },
      "execution_count": 36,
      "outputs": [
        {
          "output_type": "stream",
          "name": "stdout",
          "text": [
            "Epoch 1/100\n",
            "44/44 [==============================] - 31s 185ms/step - loss: 328.6088 - accuracy: 0.1743 - val_loss: 66.8603 - val_accuracy: 0.1000\n",
            "Epoch 2/100\n",
            "44/44 [==============================] - 4s 96ms/step - loss: 27.4094 - accuracy: 0.2200 - val_loss: 9.2456 - val_accuracy: 0.1000\n",
            "Epoch 3/100\n",
            "44/44 [==============================] - 5s 111ms/step - loss: 6.7238 - accuracy: 0.2200 - val_loss: 5.6321 - val_accuracy: 0.1000\n",
            "Epoch 4/100\n",
            "44/44 [==============================] - 3s 77ms/step - loss: 5.4798 - accuracy: 0.2200 - val_loss: 5.4304 - val_accuracy: 0.1000\n",
            "Epoch 5/100\n",
            "44/44 [==============================] - 3s 73ms/step - loss: 5.4195 - accuracy: 0.2200 - val_loss: 5.4023 - val_accuracy: 0.1000\n",
            "Epoch 6/100\n",
            "44/44 [==============================] - 3s 77ms/step - loss: 5.4162 - accuracy: 0.2200 - val_loss: 5.4027 - val_accuracy: 0.1000\n",
            "Epoch 7/100\n",
            "44/44 [==============================] - 4s 86ms/step - loss: 5.3944 - accuracy: 0.2200 - val_loss: 5.3922 - val_accuracy: 0.1000\n",
            "Epoch 8/100\n",
            "44/44 [==============================] - 3s 60ms/step - loss: 5.3851 - accuracy: 0.2200 - val_loss: 5.3955 - val_accuracy: 0.1000\n",
            "Epoch 9/100\n",
            "44/44 [==============================] - 3s 65ms/step - loss: 5.3680 - accuracy: 0.1971 - val_loss: 5.3828 - val_accuracy: 0.1000\n",
            "Epoch 10/100\n",
            "44/44 [==============================] - 3s 64ms/step - loss: 5.3596 - accuracy: 0.2200 - val_loss: 5.3182 - val_accuracy: 0.1000\n",
            "Epoch 11/100\n",
            "44/44 [==============================] - 3s 61ms/step - loss: 5.3440 - accuracy: 0.2200 - val_loss: 5.3174 - val_accuracy: 0.1000\n",
            "Epoch 12/100\n",
            "44/44 [==============================] - 3s 69ms/step - loss: 5.3357 - accuracy: 0.2200 - val_loss: 5.3624 - val_accuracy: 0.1000\n",
            "Epoch 13/100\n",
            "44/44 [==============================] - 3s 62ms/step - loss: 5.3285 - accuracy: 0.2200 - val_loss: 5.3010 - val_accuracy: 0.1000\n",
            "Epoch 14/100\n",
            "44/44 [==============================] - 3s 64ms/step - loss: 5.3187 - accuracy: 0.2200 - val_loss: 5.3083 - val_accuracy: 0.1000\n",
            "Epoch 15/100\n",
            "44/44 [==============================] - 3s 63ms/step - loss: 5.3169 - accuracy: 0.2200 - val_loss: 5.3180 - val_accuracy: 0.1000\n",
            "Epoch 16/100\n",
            "44/44 [==============================] - 3s 62ms/step - loss: 5.3076 - accuracy: 0.2200 - val_loss: 5.2991 - val_accuracy: 0.1000\n",
            "Epoch 17/100\n",
            "44/44 [==============================] - 3s 67ms/step - loss: 5.2974 - accuracy: 0.2200 - val_loss: 5.2746 - val_accuracy: 0.1000\n",
            "Epoch 18/100\n",
            "44/44 [==============================] - 3s 62ms/step - loss: 5.2840 - accuracy: 0.2200 - val_loss: 5.3176 - val_accuracy: 0.1000\n",
            "Epoch 19/100\n",
            "44/44 [==============================] - 3s 58ms/step - loss: 5.2771 - accuracy: 0.2029 - val_loss: 5.2510 - val_accuracy: 0.1000\n",
            "Epoch 20/100\n",
            "44/44 [==============================] - 3s 60ms/step - loss: 5.2642 - accuracy: 0.2200 - val_loss: 5.2280 - val_accuracy: 0.1000\n",
            "Epoch 21/100\n",
            "44/44 [==============================] - 3s 62ms/step - loss: 5.2521 - accuracy: 0.2200 - val_loss: 5.2777 - val_accuracy: 0.1000\n",
            "Epoch 22/100\n",
            "44/44 [==============================] - 3s 63ms/step - loss: 5.2555 - accuracy: 0.2200 - val_loss: 5.2732 - val_accuracy: 0.1000\n",
            "Epoch 23/100\n",
            "44/44 [==============================] - 3s 63ms/step - loss: 5.2517 - accuracy: 0.2200 - val_loss: 5.2786 - val_accuracy: 0.1000\n",
            "Epoch 24/100\n",
            "44/44 [==============================] - 3s 62ms/step - loss: 5.2550 - accuracy: 0.2200 - val_loss: 5.2469 - val_accuracy: 0.1000\n",
            "Epoch 25/100\n",
            "44/44 [==============================] - 3s 60ms/step - loss: 5.2607 - accuracy: 0.2200 - val_loss: 5.2616 - val_accuracy: 0.1000\n",
            "Epoch 26/100\n",
            "44/44 [==============================] - 3s 60ms/step - loss: 5.2683 - accuracy: 0.2200 - val_loss: 5.2590 - val_accuracy: 0.1000\n",
            "Epoch 27/100\n",
            "44/44 [==============================] - 3s 59ms/step - loss: 5.2721 - accuracy: 0.2200 - val_loss: 5.3168 - val_accuracy: 0.1000\n",
            "Epoch 28/100\n",
            "44/44 [==============================] - 3s 70ms/step - loss: 5.2827 - accuracy: 0.2200 - val_loss: 5.2780 - val_accuracy: 0.1000\n",
            "Epoch 29/100\n",
            "44/44 [==============================] - 3s 60ms/step - loss: 5.2863 - accuracy: 0.2200 - val_loss: 5.2837 - val_accuracy: 0.1000\n",
            "Epoch 30/100\n",
            "44/44 [==============================] - 3s 59ms/step - loss: 5.2904 - accuracy: 0.2200 - val_loss: 5.3011 - val_accuracy: 0.1000\n",
            "Epoch 31/100\n",
            "44/44 [==============================] - 2s 57ms/step - loss: 5.2955 - accuracy: 0.2200 - val_loss: 5.2457 - val_accuracy: 0.1000\n",
            "Epoch 32/100\n",
            "44/44 [==============================] - 2s 57ms/step - loss: 5.2904 - accuracy: 0.2200 - val_loss: 5.3242 - val_accuracy: 0.1000\n",
            "Epoch 33/100\n",
            "44/44 [==============================] - 3s 68ms/step - loss: 5.2927 - accuracy: 0.2200 - val_loss: 5.2977 - val_accuracy: 0.1000\n",
            "Epoch 34/100\n",
            "44/44 [==============================] - 3s 60ms/step - loss: 5.2912 - accuracy: 0.2200 - val_loss: 5.2606 - val_accuracy: 0.1000\n",
            "Epoch 35/100\n",
            "44/44 [==============================] - 3s 60ms/step - loss: 5.2895 - accuracy: 0.2200 - val_loss: 5.2569 - val_accuracy: 0.1000\n",
            "Epoch 36/100\n",
            "44/44 [==============================] - 3s 59ms/step - loss: 5.2868 - accuracy: 0.2200 - val_loss: 5.3225 - val_accuracy: 0.1000\n",
            "Epoch 37/100\n",
            "44/44 [==============================] - 3s 57ms/step - loss: 5.2913 - accuracy: 0.2200 - val_loss: 5.3084 - val_accuracy: 0.1000\n",
            "Epoch 38/100\n",
            "44/44 [==============================] - 3s 57ms/step - loss: 5.2895 - accuracy: 0.2200 - val_loss: 5.2672 - val_accuracy: 0.1000\n",
            "Epoch 39/100\n",
            "44/44 [==============================] - 3s 60ms/step - loss: 5.2916 - accuracy: 0.2200 - val_loss: 5.3302 - val_accuracy: 0.1000\n",
            "Epoch 40/100\n",
            "44/44 [==============================] - 3s 60ms/step - loss: 5.2948 - accuracy: 0.2200 - val_loss: 5.2590 - val_accuracy: 0.1000\n",
            "Epoch 41/100\n",
            "44/44 [==============================] - 3s 57ms/step - loss: 5.2944 - accuracy: 0.2200 - val_loss: 5.3039 - val_accuracy: 0.1000\n",
            "Epoch 42/100\n",
            "44/44 [==============================] - 3s 64ms/step - loss: 5.2985 - accuracy: 0.2200 - val_loss: 5.3349 - val_accuracy: 0.1000\n",
            "Epoch 43/100\n",
            "44/44 [==============================] - 3s 58ms/step - loss: 5.3043 - accuracy: 0.2200 - val_loss: 5.3302 - val_accuracy: 0.1000\n",
            "Epoch 44/100\n",
            "44/44 [==============================] - 3s 62ms/step - loss: 5.3095 - accuracy: 0.2200 - val_loss: 5.3171 - val_accuracy: 0.1000\n",
            "Epoch 45/100\n",
            "44/44 [==============================] - 3s 66ms/step - loss: 5.3135 - accuracy: 0.2200 - val_loss: 5.3142 - val_accuracy: 0.1000\n",
            "Epoch 46/100\n",
            "44/44 [==============================] - 3s 63ms/step - loss: 5.3265 - accuracy: 0.2200 - val_loss: 5.3483 - val_accuracy: 0.1000\n",
            "Epoch 47/100\n",
            "44/44 [==============================] - 3s 61ms/step - loss: 5.3369 - accuracy: 0.2200 - val_loss: 5.3496 - val_accuracy: 0.1000\n",
            "Epoch 48/100\n",
            "44/44 [==============================] - 3s 63ms/step - loss: 5.3496 - accuracy: 0.2200 - val_loss: 5.3843 - val_accuracy: 0.1000\n",
            "Epoch 49/100\n",
            "44/44 [==============================] - 3s 58ms/step - loss: 5.3605 - accuracy: 0.2200 - val_loss: 5.3368 - val_accuracy: 0.1000\n",
            "Epoch 50/100\n",
            "44/44 [==============================] - 3s 64ms/step - loss: 5.3684 - accuracy: 0.2200 - val_loss: 5.3727 - val_accuracy: 0.1000\n",
            "Epoch 51/100\n",
            "44/44 [==============================] - 3s 64ms/step - loss: 5.3781 - accuracy: 0.2200 - val_loss: 5.3937 - val_accuracy: 0.1000\n",
            "Epoch 52/100\n",
            "44/44 [==============================] - 3s 61ms/step - loss: 5.3873 - accuracy: 0.2200 - val_loss: 5.3778 - val_accuracy: 0.1000\n",
            "Epoch 53/100\n",
            "44/44 [==============================] - 3s 65ms/step - loss: 5.3941 - accuracy: 0.2200 - val_loss: 5.4063 - val_accuracy: 0.1000\n",
            "Epoch 54/100\n",
            "44/44 [==============================] - 3s 62ms/step - loss: 5.3967 - accuracy: 0.2200 - val_loss: 5.4094 - val_accuracy: 0.1000\n",
            "Epoch 55/100\n",
            "44/44 [==============================] - 3s 63ms/step - loss: 5.4034 - accuracy: 0.2200 - val_loss: 5.3659 - val_accuracy: 0.1000\n",
            "Epoch 56/100\n",
            "44/44 [==============================] - 3s 68ms/step - loss: 5.3991 - accuracy: 0.2200 - val_loss: 5.3846 - val_accuracy: 0.1000\n",
            "Epoch 57/100\n",
            "44/44 [==============================] - 3s 63ms/step - loss: 5.4040 - accuracy: 0.2200 - val_loss: 5.4648 - val_accuracy: 0.1000\n",
            "Epoch 58/100\n",
            "44/44 [==============================] - 3s 58ms/step - loss: 5.4059 - accuracy: 0.2200 - val_loss: 5.3973 - val_accuracy: 0.1000\n",
            "Epoch 59/100\n",
            "44/44 [==============================] - 3s 58ms/step - loss: 5.4049 - accuracy: 0.2200 - val_loss: 5.3889 - val_accuracy: 0.1000\n",
            "Epoch 60/100\n",
            "44/44 [==============================] - 3s 61ms/step - loss: 5.4059 - accuracy: 0.2200 - val_loss: 5.4128 - val_accuracy: 0.1000\n",
            "Epoch 61/100\n",
            "44/44 [==============================] - 3s 64ms/step - loss: 5.4063 - accuracy: 0.2200 - val_loss: 5.4023 - val_accuracy: 0.1000\n",
            "Epoch 62/100\n",
            "44/44 [==============================] - 3s 63ms/step - loss: 5.4063 - accuracy: 0.2200 - val_loss: 5.4259 - val_accuracy: 0.1000\n",
            "Epoch 63/100\n",
            "44/44 [==============================] - 3s 62ms/step - loss: 5.4034 - accuracy: 0.2200 - val_loss: 5.4388 - val_accuracy: 0.1000\n",
            "Epoch 64/100\n",
            "44/44 [==============================] - 3s 61ms/step - loss: 5.4105 - accuracy: 0.2200 - val_loss: 5.4192 - val_accuracy: 0.1000\n",
            "Epoch 65/100\n",
            "44/44 [==============================] - 3s 62ms/step - loss: 5.4054 - accuracy: 0.2200 - val_loss: 5.3922 - val_accuracy: 0.1000\n",
            "Epoch 66/100\n",
            "44/44 [==============================] - 3s 60ms/step - loss: 5.4069 - accuracy: 0.2200 - val_loss: 5.4266 - val_accuracy: 0.1000\n",
            "Epoch 67/100\n",
            "44/44 [==============================] - 3s 64ms/step - loss: 5.4075 - accuracy: 0.2200 - val_loss: 5.4344 - val_accuracy: 0.1000\n",
            "Epoch 68/100\n",
            "44/44 [==============================] - 3s 62ms/step - loss: 5.4065 - accuracy: 0.2200 - val_loss: 5.4137 - val_accuracy: 0.1000\n",
            "Epoch 69/100\n",
            "44/44 [==============================] - 3s 58ms/step - loss: 5.4080 - accuracy: 0.2200 - val_loss: 5.4083 - val_accuracy: 0.1000\n",
            "Epoch 70/100\n",
            "44/44 [==============================] - 3s 58ms/step - loss: 5.4070 - accuracy: 0.2200 - val_loss: 5.3848 - val_accuracy: 0.1000\n",
            "Epoch 71/100\n",
            "44/44 [==============================] - 3s 66ms/step - loss: 5.4078 - accuracy: 0.2200 - val_loss: 5.4150 - val_accuracy: 0.1000\n",
            "Epoch 72/100\n",
            "44/44 [==============================] - 3s 62ms/step - loss: 5.4049 - accuracy: 0.2200 - val_loss: 5.4563 - val_accuracy: 0.1000\n",
            "Epoch 73/100\n",
            "44/44 [==============================] - 3s 67ms/step - loss: 5.4113 - accuracy: 0.2200 - val_loss: 5.3786 - val_accuracy: 0.1000\n",
            "Epoch 74/100\n",
            "44/44 [==============================] - 3s 64ms/step - loss: 5.4061 - accuracy: 0.2200 - val_loss: 5.4033 - val_accuracy: 0.1000\n",
            "Epoch 75/100\n",
            "44/44 [==============================] - 3s 59ms/step - loss: 5.4088 - accuracy: 0.2200 - val_loss: 5.4165 - val_accuracy: 0.1000\n",
            "Epoch 76/100\n",
            "44/44 [==============================] - 3s 63ms/step - loss: 5.4101 - accuracy: 0.2200 - val_loss: 5.3776 - val_accuracy: 0.1000\n",
            "Epoch 77/100\n",
            "44/44 [==============================] - 3s 65ms/step - loss: 5.4066 - accuracy: 0.2200 - val_loss: 5.4283 - val_accuracy: 0.1000\n",
            "Epoch 78/100\n",
            "44/44 [==============================] - 3s 63ms/step - loss: 5.4104 - accuracy: 0.2200 - val_loss: 5.4317 - val_accuracy: 0.1000\n",
            "Epoch 79/100\n",
            "44/44 [==============================] - 3s 63ms/step - loss: 5.4099 - accuracy: 0.2200 - val_loss: 5.4081 - val_accuracy: 0.1000\n",
            "Epoch 80/100\n",
            "44/44 [==============================] - 3s 65ms/step - loss: 5.4110 - accuracy: 0.2200 - val_loss: 5.3746 - val_accuracy: 0.1000\n",
            "Epoch 81/100\n",
            "44/44 [==============================] - 3s 61ms/step - loss: 5.4077 - accuracy: 0.2200 - val_loss: 5.4484 - val_accuracy: 0.1000\n",
            "Epoch 82/100\n",
            "44/44 [==============================] - 3s 65ms/step - loss: 5.4133 - accuracy: 0.2200 - val_loss: 5.4258 - val_accuracy: 0.1000\n",
            "Epoch 83/100\n",
            "44/44 [==============================] - 3s 66ms/step - loss: 5.4096 - accuracy: 0.2200 - val_loss: 5.4037 - val_accuracy: 0.1000\n",
            "Epoch 84/100\n",
            "44/44 [==============================] - 3s 64ms/step - loss: 5.4100 - accuracy: 0.2200 - val_loss: 5.4413 - val_accuracy: 0.1000\n",
            "Epoch 85/100\n",
            "44/44 [==============================] - 3s 59ms/step - loss: 5.4137 - accuracy: 0.2200 - val_loss: 5.4044 - val_accuracy: 0.1000\n",
            "Epoch 86/100\n",
            "44/44 [==============================] - 3s 62ms/step - loss: 5.4109 - accuracy: 0.2200 - val_loss: 5.4307 - val_accuracy: 0.1000\n",
            "Epoch 87/100\n",
            "44/44 [==============================] - 3s 69ms/step - loss: 5.4112 - accuracy: 0.2200 - val_loss: 5.4327 - val_accuracy: 0.1000\n",
            "Epoch 88/100\n",
            "44/44 [==============================] - 3s 62ms/step - loss: 5.4112 - accuracy: 0.2200 - val_loss: 5.4339 - val_accuracy: 0.1000\n",
            "Epoch 89/100\n",
            "44/44 [==============================] - 3s 63ms/step - loss: 5.4122 - accuracy: 0.2200 - val_loss: 5.4022 - val_accuracy: 0.1000\n",
            "Epoch 90/100\n",
            "44/44 [==============================] - 3s 59ms/step - loss: 5.4101 - accuracy: 0.2200 - val_loss: 5.4176 - val_accuracy: 0.1000\n",
            "Epoch 91/100\n",
            "44/44 [==============================] - 3s 62ms/step - loss: 5.4131 - accuracy: 0.2200 - val_loss: 5.4012 - val_accuracy: 0.1000\n",
            "Epoch 92/100\n",
            "44/44 [==============================] - 3s 59ms/step - loss: 5.4093 - accuracy: 0.2200 - val_loss: 5.4327 - val_accuracy: 0.1000\n",
            "Epoch 93/100\n",
            "44/44 [==============================] - 3s 65ms/step - loss: 5.4110 - accuracy: 0.2200 - val_loss: 5.4482 - val_accuracy: 0.1000\n",
            "Epoch 94/100\n",
            "44/44 [==============================] - 3s 62ms/step - loss: 5.4130 - accuracy: 0.2200 - val_loss: 5.3603 - val_accuracy: 0.1000\n",
            "Epoch 95/100\n",
            "44/44 [==============================] - 3s 58ms/step - loss: 5.4096 - accuracy: 0.2200 - val_loss: 5.4121 - val_accuracy: 0.1000\n",
            "Epoch 96/100\n",
            "44/44 [==============================] - 3s 59ms/step - loss: 5.4115 - accuracy: 0.2200 - val_loss: 5.4134 - val_accuracy: 0.1000\n",
            "Epoch 97/100\n",
            "44/44 [==============================] - 3s 62ms/step - loss: 5.4113 - accuracy: 0.2200 - val_loss: 5.4176 - val_accuracy: 0.1000\n",
            "Epoch 98/100\n",
            "44/44 [==============================] - 3s 70ms/step - loss: 5.4103 - accuracy: 0.2200 - val_loss: 5.4087 - val_accuracy: 0.1000\n",
            "Epoch 99/100\n",
            "44/44 [==============================] - 3s 64ms/step - loss: 5.4102 - accuracy: 0.2200 - val_loss: 5.4380 - val_accuracy: 0.1000\n",
            "Epoch 100/100\n",
            "44/44 [==============================] - 3s 60ms/step - loss: 5.4138 - accuracy: 0.2200 - val_loss: 5.3970 - val_accuracy: 0.1000\n",
            "4/4 [==============================] - 0s 29ms/step - loss: 5.3994 - accuracy: 0.1800\n",
            "Test Loss: 5.3994, Test Accuracy: 0.1800\n"
          ]
        }
      ]
    },
    {
      "cell_type": "markdown",
      "metadata": {
        "id": "R_8QilZBw-ss"
      },
      "source": [
        "## 5.평가지표"
      ]
    },
    {
      "cell_type": "code",
      "execution_count": 41,
      "metadata": {
        "colab": {
          "base_uri": "https://localhost:8080/"
        },
        "id": "BSgRtbaxiajD",
        "outputId": "d7974b9e-88e0-4d8e-ad7b-9fd35e9e566c"
      },
      "outputs": [
        {
          "output_type": "stream",
          "name": "stdout",
          "text": [
            "4/4 [==============================] - 0s 57ms/step\n",
            "Accuracy: 0.1800\n",
            "Precision: 0.0360\n",
            "Recall: 0.2000\n",
            "F1 Score: 0.0610\n",
            "Confusion Matrix:\n",
            "[[ 0 27  0  0  0]\n",
            " [ 0 18  0  0  0]\n",
            " [ 0 14  0  0  0]\n",
            " [ 0 19  0  0  0]\n",
            " [ 0 22  0  0  0]]\n"
          ]
        },
        {
          "output_type": "stream",
          "name": "stderr",
          "text": [
            "/usr/local/lib/python3.10/dist-packages/sklearn/metrics/_classification.py:1344: UndefinedMetricWarning: Precision is ill-defined and being set to 0.0 in labels with no predicted samples. Use `zero_division` parameter to control this behavior.\n",
            "  _warn_prf(average, modifier, msg_start, len(result))\n"
          ]
        }
      ],
      "source": [
        "from tensorflow.keras.models import Sequential\n",
        "from tensorflow.keras.layers import Embedding, LSTM, Dense, Dropout\n",
        "from tensorflow.keras.regularizers import l1_l2\n",
        "import numpy as np\n",
        "from sklearn.metrics import accuracy_score, precision_score, recall_score, f1_score, confusion_matrix\n",
        "\n",
        "# 모델 예측\n",
        "Y_pred = model.predict(X_test_padded)\n",
        "\n",
        "# 이진 분류 또는 다중 클래스 분류에 따라 Y_pred를 적절히 변환\n",
        "# 이진 분류의 경우\n",
        "# Y_pred_classes = (Y_pred > 0.5).astype(int)\n",
        "\n",
        "# 다중 클래스 분류의 경우\n",
        "Y_pred_classes = np.argmax(Y_pred, axis=1)\n",
        "\n",
        "# 실제 값 준비 (Y_test가 원-핫 인코딩된 경우, 이를 클래스 레이블로 변환해야 함)\n",
        "# Y_true = np.argmax(Y_test, axis=1)  # 원-핫 인코딩된 경우\n",
        "Y_true = Y_test  # 이미 클래스 레이블인 경우\n",
        "\n",
        "# 성능 지표 계산\n",
        "accuracy = accuracy_score(Y_true, Y_pred_classes)\n",
        "precision = precision_score(Y_true, Y_pred_classes, average='macro')  # 다중 클래스 문제의 경우 'macro'\n",
        "recall = recall_score(Y_true, Y_pred_classes, average='macro')  # 다중 클래스 문제의 경우 'macro'\n",
        "f1 = f1_score(Y_true, Y_pred_classes, average='macro')  # 다중 클래스 문제의 경우 'macro'\n",
        "\n",
        "# 혼동 행렬\n",
        "cm = confusion_matrix(Y_true, Y_pred_classes)\n",
        "\n",
        "# 결과 출력\n",
        "print(f'Accuracy: {accuracy:.4f}')\n",
        "print(f'Precision: {precision:.4f}')\n",
        "print(f'Recall: {recall:.4f}')\n",
        "print(f'F1 Score: {f1:.4f}')\n",
        "print('Confusion Matrix:')\n",
        "print(cm)"
      ]
    },
    {
      "cell_type": "markdown",
      "metadata": {
        "id": "5QSAggh7zm_6"
      },
      "source": [
        "## 6. 시각화 그래프"
      ]
    },
    {
      "cell_type": "code",
      "execution_count": 32,
      "metadata": {
        "id": "Phk2nialiwqd"
      },
      "outputs": [],
      "source": [
        "import matplotlib.pyplot as plt\n",
        "\n",
        "def plot_metrics(metrics):\n",
        "    plt.figure(figsize=(10, 4))\n",
        "    plt.subplot(1, 2, 1)\n",
        "    plt.plot(metrics['accuracy'])\n",
        "    plt.title('Model Accuracy')\n",
        "    plt.ylabel('Accuracy')\n",
        "    plt.xlabel('Epoch')\n",
        "\n",
        "    plt.subplot(1, 2, 2)\n",
        "    plt.plot(metrics['loss'])\n",
        "    plt.title('Model Loss')\n",
        "    plt.ylabel('Loss')\n",
        "    plt.xlabel('Epoch')\n",
        "    plt.show()"
      ]
    },
    {
      "cell_type": "code",
      "execution_count": 33,
      "metadata": {
        "id": "wCjy5nLGiyxl",
        "colab": {
          "base_uri": "https://localhost:8080/",
          "height": 410
        },
        "outputId": "756ad6db-5797-4257-8f51-1b41abe730d5"
      },
      "outputs": [
        {
          "output_type": "display_data",
          "data": {
            "text/plain": [
              "<Figure size 1000x400 with 2 Axes>"
            ],
            "image/png": "[encoded data removed]"
          },
          "metadata": {}
        }
      ],
      "source": [
        "plot_metrics(history.history)"
      ]
    },
    {
      "cell_type": "code",
      "execution_count": null,
      "metadata": {
        "id": "f5ab6779"
      },
      "outputs": [],
      "source": [
        "\n",
        "# from tensorflow.keras.models import Sequential\n",
        "# from tensorflow.keras.layers import Embedding, LSTM, Dense, Dropout\n",
        "\n",
        "# # LSTM 모델 구축\n",
        "# model = Sequential()\n",
        "# model.add(Embedding(10000, 64, input_length=100))\n",
        "# model.add(LSTM(128))\n",
        "# model.add(Dense(5, activation='softmax'))\n",
        "# model.compile(optimizer='adam', loss='sparse_categorical_crossentropy', metrics=['accuracy'])\n"
      ]
    },
    {
      "cell_type": "code",
      "execution_count": null,
      "metadata": {
        "id": "927d296d"
      },
      "outputs": [],
      "source": [
        "\n",
        "# from tensorflow.keras.layers import GRU\n",
        "\n",
        "# # GRU 모델 구축\n",
        "# model = Sequential()\n",
        "# model.add(Embedding(10000, 64, input_length=100))\n",
        "# model.add(GRU(128))\n",
        "# model.add(Dense(5, activation='softmax'))\n",
        "# model.compile(optimizer='adam', loss='sparse_categorical_crossentropy', metrics=['accuracy'])\n"
      ]
    },
    {
      "cell_type": "code",
      "execution_count": null,
      "metadata": {
        "id": "8e7d0c97"
      },
      "outputs": [],
      "source": [
        "\n",
        "# BERT 모델 구현 예시 코드\n"
      ]
    }
  ],
  "metadata": {
    "accelerator": "GPU",
    "colab": {
      "gpuType": "T4",
      "provenance": []
    },
    "kernelspec": {
      "display_name": "Python 3",
      "name": "python3"
    },
    "language_info": {
      "name": "python",
      "version": "3.11.5"
    }
  },
  "nbformat": 4,
  "nbformat_minor": 0
}